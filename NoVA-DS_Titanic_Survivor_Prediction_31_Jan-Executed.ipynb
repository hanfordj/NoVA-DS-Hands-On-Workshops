{
 "cells": [
  {
   "cell_type": "markdown",
   "metadata": {},
   "source": [
    "# Machine Learning 101 Hands On Workshop"
   ]
  },
  {
   "cell_type": "code",
   "execution_count": 1,
   "metadata": {},
   "outputs": [
    {
     "name": "stdout",
     "output_type": "stream",
     "text": [
      "-rw-r--r-- 1 root root 28629 Mar  2 21:05 test.csv\n",
      "-rw-r--r-- 1 root root 61194 Mar  2 21:05 train.csv\n",
      "  892 train.csv\n",
      "  419 test.csv\n",
      " 1311 total\n"
     ]
    }
   ],
   "source": [
    "# Get the data:\n",
    "#  This will pull the required data (train.csv and test.csv files) from dropbox.\n",
    "#  The cool thing is that this is leveraging wget on the docker container to pull data to your local disk,\n",
    "#  consistently for all operating systems.\n",
    "! rm -f train.csv test.csv\n",
    "! wget https://www.dropbox.com/s/f7fb3gon8byyyz6/train.csv?dl=1 -O train.csv -q\n",
    "! wget https://www.dropbox.com/s/zcd2751x6waex9f/test.csv?dl=1 -O test.csv -q\n",
    "! ls -l train.csv test.csv\n",
    "! wc -l train.csv test.csv"
   ]
  },
  {
   "cell_type": "markdown",
   "metadata": {},
   "source": [
    "\n",
    "<div class=\"panel-group\" id=\"accordion-1\">\n",
    "  <div class=\"panel panel-default\">\n",
    "    <div class=\"panel-heading\">\n",
    "      <h4 class=\"panel-title\">\n",
    "        <a data-toggle=\"collapse\" data-parent=\"#accordion-1\" href=\"#collapse1-1\">Introduction / Motivation</a>\n",
    "    </h4>\n",
    "    </div>\n",
    "    <div id=\"collapse1-1\" class=\"panel-collapse collapse\">\n",
    "      <div class=\"panel-body\">\n",
    "      <h3 class=\"panel-title\">Why are you here?</h3>\n",
    "      <img src='images/sexiest_job.png' style=\"width: 500px;\" align=\"right\"/>\n",
    "      <ul>\n",
    "          <li>Want to check out this whole \"**Data Science - Sexiest Job of the 21st Century**\" thing.</li>\n",
    "          <li>Free pizza?</li>\n",
    "          <li>Have been dabbling/reading, but are struggling to go through a **data science problem start to finish**.</li>\n",
    "          <li>Have been using XYZ (R, SAS, Matlab, Octave, etc.) toolset, but would like to **check out Python as an alternative**.</li>\n",
    "          <li>Others?</li>\n",
    "      </ul>\n",
    "      <h3>Motivation for doing this workshop</h3>\n",
    "      <ul>\n",
    "          <li>Attended many meetups talking through interesting but potentially intractible problems for a beginner.</li>\n",
    "          <li>Saw many developers / analysts who wanted to move deeper into DS, but struggling to find good local content. </li>\n",
    "          <li>Wanted to see more hands-on approach (walk out and feel you can start writing code or at least have a starting point).</li>\n",
    "      </ul>\n",
    "    </div>\n",
    "    </div>\n",
    "</div>\n",
    "<div class=\"panel panel-default\">\n",
    "    <div class=\"panel-heading\">\n",
    "      <h4 class=\"panel-title\">\n",
    "        <a data-toggle=\"collapse\" data-parent=\"#accordion-1\" href=\"#collapse2-1\">Environment Details</a>\n",
    "    </h4>\n",
    "    </div>\n",
    "    <div id=\"collapse2-1\" class=\"panel-collapse collapse\">\n",
    "      <div class=\"panel-body\">\n",
    "      <img src='images/docker_icon.png' style=\"width: 100px;\" align=\"right\"/>\n",
    "      <ul>\n",
    "          <li>Docker</li>\n",
    "          <ul type=\"circle\">\n",
    "              <li>Isolation, consistency</li>\n",
    "              <li>Includes installation of Python 3.6.3</li>\n",
    "              <li>Additional modules: jupyter, numpy, pandas, matplotlib, sklearn, seaborn</li>\n",
    "          </ul>\n",
    "       </ul>\n",
    "       <img src='images/jupyter_icon.png' style=\"width: 100px;\" align=\"right\"/>\n",
    "       <ul>\n",
    "           <li>Jupyter notebook:</li>\n",
    "           <ul type=\"circle\">\n",
    "             <li>Quick feedback loop</li>\n",
    "             <li>Writeup and code co-located (like R-Markdown files, but simpler)</li>\n",
    "             <li>Easy interface</li>\n",
    "           </ul>\n",
    "       </ul>\n",
    "       <ul>\n",
    "           <li>Quick overview of getting this environment running:</li>\n",
    "           <ul>\n",
    "               <li>Install docker</li>\n",
    "               <li>Download docker image:\n",
    "  \n",
    "    `docker login -u <USERNAME>`\n",
    "\n",
    "    `docker pull hanfordj/ds_jupyter_launcher`\n",
    "</li>\n",
    "               <li>Run docker image:\n",
    "  \n",
    "    `docker run -d --name ds_jupyter_1 -P -v ~/docker/mnt:/ds hanfordj/ds_jupyter_launcher`\n",
    "</li>\n",
    "               <li>Access Jupyter Notebook at: `http://localhost:XXXX` (where XXXX = mapped port id)</li>\n",
    "            </ul>\n",
    "       </ul>\n",
    "      </div>\n",
    "    </div>\n",
    "</div>\n",
    "  <div class=\"panel panel-default\">\n",
    "    <div class=\"panel-heading\">\n",
    "      <h4 class=\"panel-title\">\n",
    "        <a data-toggle=\"collapse\" data-parent=\"#accordion-1\" href=\"#collapse3-1\">Real World ML Pipeline</a>\n",
    "    </h4>\n",
    "    </div>\n",
    "    <div id=\"collapse3-1\" class=\"panel-collapse collapse\">\n",
    "      <div class=\"panel-body\">\n",
    "Involves a number of complicated steps, we'll just be focusing on the preprocessing and modeling steps highlighted below:\n",
    "    <br>\n",
    "    <ul>\n",
    "        <li>Understanding of business problem</li>\n",
    "        <li>Problem formalization</li>\n",
    "        <li>Data collection</li>\n",
    "        <li>**Data preprocessing / cleansing**</li>\n",
    "        <li>**Modelling**</li>\n",
    "        <li>Way to evaluate model in real life</li>\n",
    "        <li>Model deployment</li>\n",
    "        <li>Model monitoring and retuning</li>\n",
    "    </ul>\n",
    "      </div>\n",
    "    </div>\n",
    "</div>\n",
    "</div> "
   ]
  },
  {
   "cell_type": "markdown",
   "metadata": {},
   "source": [
    "### Process we'll be following:\n",
    "1. Read data\n",
    "1. Exploratory analysis of data\n",
    "1. Feature engineering\n",
    "1. Model Creation\n",
    "1. Cross validation\n",
    "1. Grid Search to find Optimal Model Parameters\n",
    "1. Model Evaluation\n",
    "1. Kaggle Submission\n",
    "1. Interpretation of the results"
   ]
  },
  {
   "cell_type": "markdown",
   "metadata": {},
   "source": [
    "### Problem Description\n",
    "\n",
    "The sinking of the RMS Titanic is one of the most infamous shipwrecks in history.  On April 15, 1912, during her maiden voyage, the Titanic sank after colliding with an iceberg, killing _1502_ out of _2224_ passengers and crew (67.54 % died). This sensational tragedy shocked the international community and led to better safety regulations for ships.\n",
    "\n",
    "<img src='images/sunken-titanic.jpeg' style=\"width: 500px;\"/>\n",
    "\n",
    "One of the reasons that the shipwreck led to such loss of life was that there were not enough lifeboats for the passengers and crew. Although there was some element of luck involved in surviving the sinking, some groups of people were more likely to survive than others, such as women, children, and the upper-class.\n",
    "\n",
    "In this problem, we:\n",
    "* Analyze the sorts of people that were likely to survive.\n",
    "* Apply the tools of machine learning to predict which passengers survived the tragedy (classification problem)."
   ]
  },
  {
   "cell_type": "markdown",
   "metadata": {},
   "source": [
    "### 2-Min overview of the Problem:\n",
    "* Go here for details: https://www.kaggle.com/c/titanic\n",
    "* Evaluation metric: Accuracy -- % of passengers you correctly predict.\n",
    "* Submission file format: ! head -10 gender_submission.csv\n",
    "* Data:\n",
    "  - train.csv = Training data (incl target variable)\n",
    "  - test.csv = Testing data (excl target variable)\n",
    "* Data dictionary:\n",
    "  <img src='images/data_dictionary.png' style=\"width: 800px;\"/>\n",
    "* Variable notes:\n",
    "  <img src='images/variable_notes.png' style=\"width: 800px;\"/>"
   ]
  },
  {
   "cell_type": "code",
   "execution_count": 2,
   "metadata": {},
   "outputs": [],
   "source": [
    "# Import the main Python libraries:\n",
    "import numpy as np\n",
    "import pandas as pd\n",
    "import matplotlib.pyplot as plt\n",
    "%matplotlib inline\n",
    "import seaborn as sns\n",
    "\n",
    "from sklearn.preprocessing import LabelEncoder, LabelBinarizer, Imputer, MinMaxScaler, Normalizer, OneHotEncoder, StandardScaler\n",
    "from sklearn.model_selection import train_test_split, cross_val_score\n",
    "from sklearn.model_selection import KFold, StratifiedKFold, LeaveOneOut\n",
    "from sklearn.model_selection import GridSearchCV, RandomizedSearchCV\n",
    "from sklearn.linear_model import LogisticRegression\n",
    "from sklearn.svm import SVC\n",
    "from sklearn.ensemble import RandomForestClassifier\n",
    "from sklearn.neighbors import KNeighborsClassifier\n",
    "from sklearn.pipeline import Pipeline, FeatureUnion\n",
    "from sklearn.metrics import confusion_matrix, f1_score, accuracy_score, matthews_corrcoef"
   ]
  },
  {
   "cell_type": "code",
   "execution_count": 3,
   "metadata": {},
   "outputs": [
    {
     "name": "stdout",
     "output_type": "stream",
     "text": [
      "==> train.csv <==\r\n",
      "PassengerId,Survived,Pclass,Name,Sex,Age,SibSp,Parch,Ticket,Fare,Cabin,Embarked\r",
      "\r\n",
      "1,0,3,\"Braund, Mr. Owen Harris\",male,22,1,0,A/5 21171,7.25,,S\r",
      "\r\n",
      "2,1,1,\"Cumings, Mrs. John Bradley (Florence Briggs Thayer)\",female,38,1,0,PC 17599,71.2833,C85,C\r",
      "\r\n",
      "\r\n",
      "==> test.csv <==\r\n",
      "PassengerId,Pclass,Name,Sex,Age,SibSp,Parch,Ticket,Fare,Cabin,Embarked\r",
      "\r\n",
      "892,3,\"Kelly, Mr. James\",male,34.5,0,0,330911,7.8292,,Q\r",
      "\r\n",
      "893,3,\"Wilkes, Mrs. James (Ellen Needs)\",female,47,1,0,363272,7,,S\r",
      "\r\n"
     ]
    }
   ],
   "source": [
    "# Take a quick look at the top of the files to check what data we're getting as input:\n",
    "! head -3 train.csv test.csv"
   ]
  },
  {
   "cell_type": "markdown",
   "metadata": {},
   "source": [
    "### Exercise #1:\n",
    "<span style=\"color:blue\">\n",
    "Here we'd like to read data from the CSV files into Panda's DataFrame objects.\n",
    "* Please read \"train.csv\" into a DataFrame named as \"df\".\n",
    "* Please read \"test.csv\" into a DataFrame named as \"df_test\".\n",
    "</span>\n",
    "<div class=\"panel-group\" id=\"accordion-2\">\n",
    "  <div class=\"panel panel-default\">\n",
    "    <div class=\"panel-heading\">\n",
    "      <h4 class=\"panel-title\">\n",
    "        <a data-toggle=\"collapse\" data-parent=\"#accordion-2\" href=\"#collapse1-2\">Hints</a>\n",
    "    </h4>\n",
    "    </div>\n",
    "    <div id=\"collapse1-2\" class=\"panel-collapse collapse\">\n",
    "      <div class=\"panel-body\">\n",
    "Use the function: `pd.read_csv(...)`\n",
    "<br><br>\n",
    "To get additional information about a function within Jupyter, open a new cell (ESC + B), type: `<fxn_name>?` and run the cell, so for example in this case:\n",
    "<br>\n",
    "Type: `pd.read_csv?`\n",
    "    </div>\n",
    "    </div>\n",
    "</div>\n",
    "  <div class=\"panel panel-default\">\n",
    "    <div class=\"panel-heading\">\n",
    "      <h4 class=\"panel-title\">\n",
    "        <a data-toggle=\"collapse\" data-parent=\"#accordion-2\" href=\"#collapse2-2\">Solution</a>\n",
    "    </h4>\n",
    "    </div>\n",
    "    <div id=\"collapse2-2\" class=\"panel-collapse collapse\">\n",
    "      <div class=\"panel-body\">\n",
    "One possible solution is:\n",
    "<br>\n",
    "`df = pd.read_csv('train.csv')`\n",
    "<br>\n",
    "`df_test = pd.read_csv('test.csv')`\n",
    "<br>\n",
    "The solution is so simple in this case as the fields have comma delimiters and double quote qualifiers (the default), but in some cases additional parameters will be needed to read data into a DataFrame.\n",
    "      </div>\n",
    "    </div>\n",
    "</div>\n",
    "</div> "
   ]
  },
  {
   "cell_type": "code",
   "execution_count": 4,
   "metadata": {},
   "outputs": [],
   "source": [
    "# Read data in from input CSV files (Exercise #1):\n",
    "df = pd.read_csv('train.csv', index_col='PassengerId')\n",
    "df_test = pd.read_csv('test.csv', index_col='PassengerId')"
   ]
  },
  {
   "cell_type": "code",
   "execution_count": 6,
   "metadata": {},
   "outputs": [
    {
     "data": {
      "text/html": [
       "<div>\n",
       "<style scoped>\n",
       "    .dataframe tbody tr th:only-of-type {\n",
       "        vertical-align: middle;\n",
       "    }\n",
       "\n",
       "    .dataframe tbody tr th {\n",
       "        vertical-align: top;\n",
       "    }\n",
       "\n",
       "    .dataframe thead th {\n",
       "        text-align: right;\n",
       "    }\n",
       "</style>\n",
       "<table border=\"1\" class=\"dataframe\">\n",
       "  <thead>\n",
       "    <tr style=\"text-align: right;\">\n",
       "      <th></th>\n",
       "      <th>Survived</th>\n",
       "      <th>Pclass</th>\n",
       "      <th>Name</th>\n",
       "      <th>Sex</th>\n",
       "      <th>Age</th>\n",
       "      <th>SibSp</th>\n",
       "      <th>Parch</th>\n",
       "      <th>Ticket</th>\n",
       "      <th>Fare</th>\n",
       "      <th>Cabin</th>\n",
       "      <th>Embarked</th>\n",
       "    </tr>\n",
       "    <tr>\n",
       "      <th>PassengerId</th>\n",
       "      <th></th>\n",
       "      <th></th>\n",
       "      <th></th>\n",
       "      <th></th>\n",
       "      <th></th>\n",
       "      <th></th>\n",
       "      <th></th>\n",
       "      <th></th>\n",
       "      <th></th>\n",
       "      <th></th>\n",
       "      <th></th>\n",
       "    </tr>\n",
       "  </thead>\n",
       "  <tbody>\n",
       "    <tr>\n",
       "      <th>1</th>\n",
       "      <td>0</td>\n",
       "      <td>3</td>\n",
       "      <td>Braund, Mr. Owen Harris</td>\n",
       "      <td>male</td>\n",
       "      <td>22.0</td>\n",
       "      <td>1</td>\n",
       "      <td>0</td>\n",
       "      <td>A/5 21171</td>\n",
       "      <td>7.2500</td>\n",
       "      <td>NaN</td>\n",
       "      <td>S</td>\n",
       "    </tr>\n",
       "    <tr>\n",
       "      <th>2</th>\n",
       "      <td>1</td>\n",
       "      <td>1</td>\n",
       "      <td>Cumings, Mrs. John Bradley (Florence Briggs Th...</td>\n",
       "      <td>female</td>\n",
       "      <td>38.0</td>\n",
       "      <td>1</td>\n",
       "      <td>0</td>\n",
       "      <td>PC 17599</td>\n",
       "      <td>71.2833</td>\n",
       "      <td>C85</td>\n",
       "      <td>C</td>\n",
       "    </tr>\n",
       "    <tr>\n",
       "      <th>3</th>\n",
       "      <td>1</td>\n",
       "      <td>3</td>\n",
       "      <td>Heikkinen, Miss. Laina</td>\n",
       "      <td>female</td>\n",
       "      <td>26.0</td>\n",
       "      <td>0</td>\n",
       "      <td>0</td>\n",
       "      <td>STON/O2. 3101282</td>\n",
       "      <td>7.9250</td>\n",
       "      <td>NaN</td>\n",
       "      <td>S</td>\n",
       "    </tr>\n",
       "    <tr>\n",
       "      <th>4</th>\n",
       "      <td>1</td>\n",
       "      <td>1</td>\n",
       "      <td>Futrelle, Mrs. Jacques Heath (Lily May Peel)</td>\n",
       "      <td>female</td>\n",
       "      <td>35.0</td>\n",
       "      <td>1</td>\n",
       "      <td>0</td>\n",
       "      <td>113803</td>\n",
       "      <td>53.1000</td>\n",
       "      <td>C123</td>\n",
       "      <td>S</td>\n",
       "    </tr>\n",
       "    <tr>\n",
       "      <th>5</th>\n",
       "      <td>0</td>\n",
       "      <td>3</td>\n",
       "      <td>Allen, Mr. William Henry</td>\n",
       "      <td>male</td>\n",
       "      <td>35.0</td>\n",
       "      <td>0</td>\n",
       "      <td>0</td>\n",
       "      <td>373450</td>\n",
       "      <td>8.0500</td>\n",
       "      <td>NaN</td>\n",
       "      <td>S</td>\n",
       "    </tr>\n",
       "  </tbody>\n",
       "</table>\n",
       "</div>"
      ],
      "text/plain": [
       "             Survived  Pclass  \\\n",
       "PassengerId                     \n",
       "1                   0       3   \n",
       "2                   1       1   \n",
       "3                   1       3   \n",
       "4                   1       1   \n",
       "5                   0       3   \n",
       "\n",
       "                                                          Name     Sex   Age  \\\n",
       "PassengerId                                                                    \n",
       "1                                      Braund, Mr. Owen Harris    male  22.0   \n",
       "2            Cumings, Mrs. John Bradley (Florence Briggs Th...  female  38.0   \n",
       "3                                       Heikkinen, Miss. Laina  female  26.0   \n",
       "4                 Futrelle, Mrs. Jacques Heath (Lily May Peel)  female  35.0   \n",
       "5                                     Allen, Mr. William Henry    male  35.0   \n",
       "\n",
       "             SibSp  Parch            Ticket     Fare Cabin Embarked  \n",
       "PassengerId                                                          \n",
       "1                1      0         A/5 21171   7.2500   NaN        S  \n",
       "2                1      0          PC 17599  71.2833   C85        C  \n",
       "3                0      0  STON/O2. 3101282   7.9250   NaN        S  \n",
       "4                1      0            113803  53.1000  C123        S  \n",
       "5                0      0            373450   8.0500   NaN        S  "
      ]
     },
     "execution_count": 6,
     "metadata": {},
     "output_type": "execute_result"
    }
   ],
   "source": [
    "# Look at top 5 rows from each DataFrame (using head function):\n",
    "df.head(5)"
   ]
  },
  {
   "cell_type": "code",
   "execution_count": 7,
   "metadata": {},
   "outputs": [
    {
     "data": {
      "text/html": [
       "<div>\n",
       "<style scoped>\n",
       "    .dataframe tbody tr th:only-of-type {\n",
       "        vertical-align: middle;\n",
       "    }\n",
       "\n",
       "    .dataframe tbody tr th {\n",
       "        vertical-align: top;\n",
       "    }\n",
       "\n",
       "    .dataframe thead th {\n",
       "        text-align: right;\n",
       "    }\n",
       "</style>\n",
       "<table border=\"1\" class=\"dataframe\">\n",
       "  <thead>\n",
       "    <tr style=\"text-align: right;\">\n",
       "      <th></th>\n",
       "      <th>Pclass</th>\n",
       "      <th>Name</th>\n",
       "      <th>Sex</th>\n",
       "      <th>Age</th>\n",
       "      <th>SibSp</th>\n",
       "      <th>Parch</th>\n",
       "      <th>Ticket</th>\n",
       "      <th>Fare</th>\n",
       "      <th>Cabin</th>\n",
       "      <th>Embarked</th>\n",
       "    </tr>\n",
       "    <tr>\n",
       "      <th>PassengerId</th>\n",
       "      <th></th>\n",
       "      <th></th>\n",
       "      <th></th>\n",
       "      <th></th>\n",
       "      <th></th>\n",
       "      <th></th>\n",
       "      <th></th>\n",
       "      <th></th>\n",
       "      <th></th>\n",
       "      <th></th>\n",
       "    </tr>\n",
       "  </thead>\n",
       "  <tbody>\n",
       "    <tr>\n",
       "      <th>892</th>\n",
       "      <td>3</td>\n",
       "      <td>Kelly, Mr. James</td>\n",
       "      <td>male</td>\n",
       "      <td>34.5</td>\n",
       "      <td>0</td>\n",
       "      <td>0</td>\n",
       "      <td>330911</td>\n",
       "      <td>7.8292</td>\n",
       "      <td>NaN</td>\n",
       "      <td>Q</td>\n",
       "    </tr>\n",
       "    <tr>\n",
       "      <th>893</th>\n",
       "      <td>3</td>\n",
       "      <td>Wilkes, Mrs. James (Ellen Needs)</td>\n",
       "      <td>female</td>\n",
       "      <td>47.0</td>\n",
       "      <td>1</td>\n",
       "      <td>0</td>\n",
       "      <td>363272</td>\n",
       "      <td>7.0000</td>\n",
       "      <td>NaN</td>\n",
       "      <td>S</td>\n",
       "    </tr>\n",
       "    <tr>\n",
       "      <th>894</th>\n",
       "      <td>2</td>\n",
       "      <td>Myles, Mr. Thomas Francis</td>\n",
       "      <td>male</td>\n",
       "      <td>62.0</td>\n",
       "      <td>0</td>\n",
       "      <td>0</td>\n",
       "      <td>240276</td>\n",
       "      <td>9.6875</td>\n",
       "      <td>NaN</td>\n",
       "      <td>Q</td>\n",
       "    </tr>\n",
       "    <tr>\n",
       "      <th>895</th>\n",
       "      <td>3</td>\n",
       "      <td>Wirz, Mr. Albert</td>\n",
       "      <td>male</td>\n",
       "      <td>27.0</td>\n",
       "      <td>0</td>\n",
       "      <td>0</td>\n",
       "      <td>315154</td>\n",
       "      <td>8.6625</td>\n",
       "      <td>NaN</td>\n",
       "      <td>S</td>\n",
       "    </tr>\n",
       "    <tr>\n",
       "      <th>896</th>\n",
       "      <td>3</td>\n",
       "      <td>Hirvonen, Mrs. Alexander (Helga E Lindqvist)</td>\n",
       "      <td>female</td>\n",
       "      <td>22.0</td>\n",
       "      <td>1</td>\n",
       "      <td>1</td>\n",
       "      <td>3101298</td>\n",
       "      <td>12.2875</td>\n",
       "      <td>NaN</td>\n",
       "      <td>S</td>\n",
       "    </tr>\n",
       "  </tbody>\n",
       "</table>\n",
       "</div>"
      ],
      "text/plain": [
       "             Pclass                                          Name     Sex  \\\n",
       "PassengerId                                                                 \n",
       "892               3                              Kelly, Mr. James    male   \n",
       "893               3              Wilkes, Mrs. James (Ellen Needs)  female   \n",
       "894               2                     Myles, Mr. Thomas Francis    male   \n",
       "895               3                              Wirz, Mr. Albert    male   \n",
       "896               3  Hirvonen, Mrs. Alexander (Helga E Lindqvist)  female   \n",
       "\n",
       "              Age  SibSp  Parch   Ticket     Fare Cabin Embarked  \n",
       "PassengerId                                                       \n",
       "892          34.5      0      0   330911   7.8292   NaN        Q  \n",
       "893          47.0      1      0   363272   7.0000   NaN        S  \n",
       "894          62.0      0      0   240276   9.6875   NaN        Q  \n",
       "895          27.0      0      0   315154   8.6625   NaN        S  \n",
       "896          22.0      1      1  3101298  12.2875   NaN        S  "
      ]
     },
     "execution_count": 7,
     "metadata": {},
     "output_type": "execute_result"
    }
   ],
   "source": [
    "df_test.head(5)"
   ]
  },
  {
   "cell_type": "markdown",
   "metadata": {},
   "source": [
    "### Exercise #2:\n",
    "<span style=\"color:blue\">\n",
    "Here we'd like to inspect the data that's been read in, check:\n",
    "* Column data types\n",
    "* Number of rows within each data frame\n",
    "* Whether there are NULLs present (missing values) in the data\n",
    "</span>\n",
    "<div class=\"panel-group\" id=\"accordion-3\">\n",
    "  <div class=\"panel panel-default\">\n",
    "    <div class=\"panel-heading\">\n",
    "      <h4 class=\"panel-title\">\n",
    "        <a data-toggle=\"collapse\" data-parent=\"#accordion-2\" href=\"#collapse1-3\">Hints</a>\n",
    "    </h4>\n",
    "    </div>\n",
    "    <div id=\"collapse1-3\" class=\"panel-collapse collapse\">\n",
    "      <div class=\"panel-body\">\n",
    "Try the functions: `__dataFrame__.info()` and `__dataFrame__.describe()`\n",
    "<br>\n",
    "you could also try using some of the other functions:\n",
    "<ul>\n",
    "  <li>Python's `len()` function to calculate the length of the data frame.</li>\n",
    "  <li>Panda's `__dataFrame__.shape` attribute to see the dimensionality of the data frame.</li>\n",
    "  <li>Panda's `__dataFrame__.isnull()` function to determine the null's within a data frame.</li>\n",
    "</ul>\n",
    "    </div>\n",
    "    </div>\n",
    "</div>\n",
    "  <div class=\"panel panel-default\">\n",
    "    <div class=\"panel-heading\">\n",
    "      <h4 class=\"panel-title\">\n",
    "        <a data-toggle=\"collapse\" data-parent=\"#accordion-3\" href=\"#collapse2-3\">Solution</a>\n",
    "    </h4>\n",
    "    </div>\n",
    "    <div id=\"collapse2-3\" class=\"panel-collapse collapse\">\n",
    "      <div class=\"panel-body\">\n",
    "One possible solution is:\n",
    "<br>\n",
    "`df_to_inspect = df` # Can switch to \"df_test\" too...\n",
    "<br><br>\n",
    "`print(df_to_inspect.info())`<br>\n",
    "`print()`<br>\n",
    "`print(df_to_inspect.describe())`<br>\n",
    "`print()`<br>\n",
    "`print(\"Length of DataFrame is: {}\".format(len(df_to_inspect)))`<br>\n",
    "`print(\"Shape of DataFrame is: {}\".format(df_to_inspect.shape))`<br>\n",
    "`print(\"\\nNULL counts per column within DataFrame are given below: \\n\\n{}\".format(df_to_inspect.isnull().sum()))`\n",
    "      </div>\n",
    "    </div>\n",
    "</div>\n",
    "</div>"
   ]
  },
  {
   "cell_type": "code",
   "execution_count": 8,
   "metadata": {},
   "outputs": [
    {
     "name": "stdout",
     "output_type": "stream",
     "text": [
      "<class 'pandas.core.frame.DataFrame'>\n",
      "Int64Index: 891 entries, 1 to 891\n",
      "Data columns (total 11 columns):\n",
      "Survived    891 non-null int64\n",
      "Pclass      891 non-null int64\n",
      "Name        891 non-null object\n",
      "Sex         891 non-null object\n",
      "Age         714 non-null float64\n",
      "SibSp       891 non-null int64\n",
      "Parch       891 non-null int64\n",
      "Ticket      891 non-null object\n",
      "Fare        891 non-null float64\n",
      "Cabin       204 non-null object\n",
      "Embarked    889 non-null object\n",
      "dtypes: float64(2), int64(4), object(5)\n",
      "memory usage: 83.5+ KB\n",
      "None\n",
      "\n",
      "         Survived      Pclass         Age       SibSp       Parch        Fare\n",
      "count  891.000000  891.000000  714.000000  891.000000  891.000000  891.000000\n",
      "mean     0.383838    2.308642   29.699118    0.523008    0.381594   32.204208\n",
      "std      0.486592    0.836071   14.526497    1.102743    0.806057   49.693429\n",
      "min      0.000000    1.000000    0.420000    0.000000    0.000000    0.000000\n",
      "25%      0.000000    2.000000   20.125000    0.000000    0.000000    7.910400\n",
      "50%      0.000000    3.000000   28.000000    0.000000    0.000000   14.454200\n",
      "75%      1.000000    3.000000   38.000000    1.000000    0.000000   31.000000\n",
      "max      1.000000    3.000000   80.000000    8.000000    6.000000  512.329200\n",
      "\n",
      "Length of DataFrame is: 891\n",
      "Shape of DataFrame is: (891, 11)\n",
      "\n",
      "NULL counts per column within DataFrame are given below: \n",
      "\n",
      "Survived      0\n",
      "Pclass        0\n",
      "Name          0\n",
      "Sex           0\n",
      "Age         177\n",
      "SibSp         0\n",
      "Parch         0\n",
      "Ticket        0\n",
      "Fare          0\n",
      "Cabin       687\n",
      "Embarked      2\n",
      "dtype: int64\n",
      "<class 'pandas.core.frame.DataFrame'>\n",
      "Int64Index: 418 entries, 892 to 1309\n",
      "Data columns (total 10 columns):\n",
      "Pclass      418 non-null int64\n",
      "Name        418 non-null object\n",
      "Sex         418 non-null object\n",
      "Age         332 non-null float64\n",
      "SibSp       418 non-null int64\n",
      "Parch       418 non-null int64\n",
      "Ticket      418 non-null object\n",
      "Fare        417 non-null float64\n",
      "Cabin       91 non-null object\n",
      "Embarked    418 non-null object\n",
      "dtypes: float64(2), int64(3), object(5)\n",
      "memory usage: 35.9+ KB\n",
      "None\n",
      "\n",
      "           Pclass         Age       SibSp       Parch        Fare\n",
      "count  418.000000  332.000000  418.000000  418.000000  417.000000\n",
      "mean     2.265550   30.272590    0.447368    0.392344   35.627188\n",
      "std      0.841838   14.181209    0.896760    0.981429   55.907576\n",
      "min      1.000000    0.170000    0.000000    0.000000    0.000000\n",
      "25%      1.000000   21.000000    0.000000    0.000000    7.895800\n",
      "50%      3.000000   27.000000    0.000000    0.000000   14.454200\n",
      "75%      3.000000   39.000000    1.000000    0.000000   31.500000\n",
      "max      3.000000   76.000000    8.000000    9.000000  512.329200\n",
      "\n",
      "Length of DataFrame is: 418\n",
      "Shape of DataFrame is: (418, 10)\n",
      "\n",
      "NULL counts per column within DataFrame are given below: \n",
      "\n",
      "Pclass        0\n",
      "Name          0\n",
      "Sex           0\n",
      "Age          86\n",
      "SibSp         0\n",
      "Parch         0\n",
      "Ticket        0\n",
      "Fare          1\n",
      "Cabin       327\n",
      "Embarked      0\n",
      "dtype: int64\n"
     ]
    }
   ],
   "source": [
    "# Investigate the data we just read in (Exercise #2):\n",
    "\n",
    "def view_df_info(df_to_inspect):\n",
    "    print(df_to_inspect.info())\n",
    "    print()\n",
    "    print(df_to_inspect.describe())\n",
    "    print()\n",
    "    print(\"Length of DataFrame is: {}\".format(len(df_to_inspect)))\n",
    "    print(\"Shape of DataFrame is: {}\".format(df_to_inspect.shape))\n",
    "    print(\"\\nNULL counts per column within DataFrame are given below: \\n\\n{}\".format(df_to_inspect.isnull().sum()))\n",
    "\n",
    "view_df_info(df)\n",
    "\n",
    "view_df_info(df_test)"
   ]
  },
  {
   "cell_type": "code",
   "execution_count": 9,
   "metadata": {},
   "outputs": [
    {
     "name": "stdout",
     "output_type": "stream",
     "text": [
      "Shape: (1309, 11)\n",
      "Training: (891, 11)\n",
      "Submission Test: (418, 11)\n"
     ]
    }
   ],
   "source": [
    "# Create a combined data frame for exploration and data cleansing:\n",
    "combined_df = pd.concat([df,df_test], ignore_index=True)\n",
    "print( \"Shape: {}\".format( combined_df.shape ) )\n",
    "print( \"Training: {}\".format( combined_df[combined_df.Survived.notnull()].shape ) )\n",
    "print( \"Submission Test: {}\".format( combined_df[combined_df.Survived.isnull()].shape ) )"
   ]
  },
  {
   "cell_type": "code",
   "execution_count": 10,
   "metadata": {},
   "outputs": [
    {
     "data": {
      "text/html": [
       "<div>\n",
       "<style scoped>\n",
       "    .dataframe tbody tr th:only-of-type {\n",
       "        vertical-align: middle;\n",
       "    }\n",
       "\n",
       "    .dataframe tbody tr th {\n",
       "        vertical-align: top;\n",
       "    }\n",
       "\n",
       "    .dataframe thead th {\n",
       "        text-align: right;\n",
       "    }\n",
       "</style>\n",
       "<table border=\"1\" class=\"dataframe\">\n",
       "  <thead>\n",
       "    <tr style=\"text-align: right;\">\n",
       "      <th></th>\n",
       "      <th>Age</th>\n",
       "      <th>Cabin</th>\n",
       "      <th>Embarked</th>\n",
       "      <th>Fare</th>\n",
       "      <th>Name</th>\n",
       "      <th>Parch</th>\n",
       "      <th>Pclass</th>\n",
       "      <th>Sex</th>\n",
       "      <th>SibSp</th>\n",
       "      <th>Ticket</th>\n",
       "    </tr>\n",
       "    <tr>\n",
       "      <th>Test Set</th>\n",
       "      <th></th>\n",
       "      <th></th>\n",
       "      <th></th>\n",
       "      <th></th>\n",
       "      <th></th>\n",
       "      <th></th>\n",
       "      <th></th>\n",
       "      <th></th>\n",
       "      <th></th>\n",
       "      <th></th>\n",
       "    </tr>\n",
       "  </thead>\n",
       "  <tbody>\n",
       "    <tr>\n",
       "      <th>0</th>\n",
       "      <td>177</td>\n",
       "      <td>687</td>\n",
       "      <td>2</td>\n",
       "      <td>0</td>\n",
       "      <td>0</td>\n",
       "      <td>0</td>\n",
       "      <td>0</td>\n",
       "      <td>0</td>\n",
       "      <td>0</td>\n",
       "      <td>0</td>\n",
       "    </tr>\n",
       "    <tr>\n",
       "      <th>1</th>\n",
       "      <td>86</td>\n",
       "      <td>327</td>\n",
       "      <td>0</td>\n",
       "      <td>1</td>\n",
       "      <td>0</td>\n",
       "      <td>0</td>\n",
       "      <td>0</td>\n",
       "      <td>0</td>\n",
       "      <td>0</td>\n",
       "      <td>0</td>\n",
       "    </tr>\n",
       "  </tbody>\n",
       "</table>\n",
       "</div>"
      ],
      "text/plain": [
       "          Age  Cabin  Embarked  Fare  Name  Parch  Pclass  Sex  SibSp  Ticket\n",
       "Test Set                                                                     \n",
       "0         177    687         2     0     0      0       0    0      0       0\n",
       "1          86    327         0     1     0      0       0    0      0       0"
      ]
     },
     "execution_count": 10,
     "metadata": {},
     "output_type": "execute_result"
    }
   ],
   "source": [
    "# Counts of null values for Train / Test:\n",
    "combined_df.isnull().applymap(int).rename({'Survived':'Test Set'},axis=1).groupby('Test Set').sum()"
   ]
  },
  {
   "cell_type": "markdown",
   "metadata": {},
   "source": [
    "Some discussion points:\n",
    "* _Does it make sense to analyze the data as a combined dataframe (train + test)?_\n",
    "* _Why do we care about missing values?_"
   ]
  },
  {
   "cell_type": "markdown",
   "metadata": {},
   "source": [
    "### Exploration of important variables"
   ]
  },
  {
   "cell_type": "markdown",
   "metadata": {},
   "source": [
    "#### Survival (Target variable):\n",
    "Survival rate in the training dataset is at approximately 38.4% (for the 891 people on the Training Set). The Survival of the Test set is what we're trying to predict. "
   ]
  },
  {
   "cell_type": "markdown",
   "metadata": {},
   "source": [
    "### Exercise #3:\n",
    "<span style=\"color:blue\">\n",
    "Here we'd like to use the training data \"df\" DataFrame to calculate the \"survival rate\"; this can be calculated as:\n",
    "* 100.0 * {number of rows where Survived == 1} / {total number of rows}\n",
    "* Round the result off to one decimal place\n",
    "</span>\n",
    "<div class=\"panel-group\" id=\"accordion-4\">\n",
    "  <div class=\"panel panel-default\">\n",
    "    <div class=\"panel-heading\">\n",
    "      <h4 class=\"panel-title\">\n",
    "        <a data-toggle=\"collapse\" data-parent=\"#accordion-4\" href=\"#collapse1-4\">Hints</a>\n",
    "    </h4>\n",
    "    </div>\n",
    "    <div id=\"collapse1-4\" class=\"panel-collapse collapse\">\n",
    "      <div class=\"panel-body\">\n",
    "You can access the values of a column from the dataframe using two approaches:\n",
    "<ul>\n",
    "    <li>__dataFrame__.__columnName__       e.g. df.Survived</li>\n",
    "    <li>__dataFrame__['__columnName__']    e.g. df['Survived']</li>\n",
    "</ul>\n",
    "Checking such a column using relational operators: ==, !=, &lt;, &gt;, etc. will return a boolean Pandas Series, stating for each row the evaluation of the operation.\n",
    "<br><br>\n",
    "E.g. df.Survived == 1 will return [True, False, ..., True].\n",
    "<br><br>\n",
    "One can apply aggregation functions to such a boolean Series to get summary statistics back regarding the array:\n",
    "<br>\n",
    "<ul>\n",
    "    <li>__series__.sum()    --> returns sum of elements, True = 1, False = 0</li>\n",
    "    <li>__series__.count()  --> returns count of elements</li>\n",
    "    <li>__series__.max()    --> returns max value from series</li>\n",
    "    <li>__series__.min()    --> returns min value from series</li>\n",
    "    <li>__series__.mean()   --> returns mean calculated from series</li>\n",
    "</ul>\n",
    "    </div>\n",
    "    </div>\n",
    "</div>\n",
    "  <div class=\"panel panel-default\">\n",
    "    <div class=\"panel-heading\">\n",
    "      <h4 class=\"panel-title\">\n",
    "        <a data-toggle=\"collapse\" data-parent=\"#accordion-4\" href=\"#collapse2-4\">Solution</a>\n",
    "    </h4>\n",
    "    </div>\n",
    "    <div id=\"collapse2-4\" class=\"panel-collapse collapse\">\n",
    "      <div class=\"panel-body\">\n",
    "Some possible solutions:\n",
    "<br>\n",
    "<ul>\n",
    "    <li>number_of_rows_where_survived_eq_1 = (df.Survived == 1).sum()</li>\n",
    "    <li>number_of_rows_where_survived_eq_1 = (df.Survived > 0).sum()</li>\n",
    "</ul>\n",
    "<ul>\n",
    "    <li>total_num_rows = len(df)</li>\n",
    "    <li>total_num_rows = df.shape[0]</li>\n",
    "    <li>total_num_rows = df.Survived.count()</li>\n",
    "</ul>\n",
    "And maybe a simpler way:\n",
    "`rate = round(100.0*(df.Survived == 1).mean(),1)`\n",
    "      </div>\n",
    "    </div>\n",
    "</div>\n",
    "</div>"
   ]
  },
  {
   "cell_type": "code",
   "execution_count": 11,
   "metadata": {},
   "outputs": [
    {
     "name": "stdout",
     "output_type": "stream",
     "text": [
      "342\n",
      "891\n"
     ]
    }
   ],
   "source": [
    "number_of_rows_where_survived_eq_1 = (df.Survived == 1).sum()\n",
    "print(number_of_rows_where_survived_eq_1)\n",
    "\n",
    "total_num_rows = len(df)\n",
    "print(total_num_rows)\n",
    "\n",
    "rate = round(100.0*number_of_rows_where_survived_eq_1/total_num_rows,1)"
   ]
  },
  {
   "cell_type": "code",
   "execution_count": 12,
   "metadata": {},
   "outputs": [
    {
     "data": {
      "image/png": "[encoded data removed]",
      "text/plain": [
       "<matplotlib.figure.Figure at 0x7f8378dd0668>"
      ]
     },
     "metadata": {},
     "output_type": "display_data"
    }
   ],
   "source": [
    "fig = plt.figure(figsize=(7,5))\n",
    "ax1 = fig.add_subplot(1,1,1)\n",
    "data = df.groupby(['Survived']).size()\n",
    "data.plot(kind='bar',title='Survival Rate (Train Only) = {}%'.format(rate),ax=ax1);"
   ]
  },
  {
   "cell_type": "markdown",
   "metadata": {},
   "source": [
    "#### Gender (Sex):\n",
    "* Gender distribution consistent between train and test sets (no sampling bias).\n",
    "* Female survival rate significantly higher than for males."
   ]
  },
  {
   "cell_type": "code",
   "execution_count": 13,
   "metadata": {},
   "outputs": [
    {
     "data": {
      "image/png": "[encoded data removed]",
      "text/plain": [
       "<matplotlib.figure.Figure at 0x7f8378ce9ac8>"
      ]
     },
     "metadata": {},
     "output_type": "display_data"
    }
   ],
   "source": [
    "fig = plt.figure(figsize=(14,10))\n",
    "ax1 = fig.add_subplot(2,2,1)\n",
    "rate_female = round(100.0*(combined_df.Sex=='female').sum()/combined_df.Sex.count(),1)\n",
    "data = combined_df.groupby(['Sex']).size()\n",
    "data.plot(kind='bar',title='Overall Gender Distribution - {}% Female'.format(rate_female),ax=ax1);\n",
    "\n",
    "ax3 = fig.add_subplot(2,2,3)\n",
    "rate_female = round(100.0*(df.Sex=='female').sum()/df.Sex.count(),1)\n",
    "data = combined_df.groupby(['Sex']).size()\n",
    "data.plot(kind='bar',title='Gender Distribution (Train Only) - {}% Female'.format(rate_female),ax=ax3);\n",
    "\n",
    "ax4 = fig.add_subplot(2,2,4)\n",
    "data = df.groupby(['Sex', 'Survived']).size()\n",
    "data.unstack().plot(kind='bar',title='Impact of Gender on Survival (Train Only)',ax=ax4);"
   ]
  },
  {
   "cell_type": "markdown",
   "metadata": {},
   "source": [
    "#### Passenger Class (Pclass):\n",
    "* Passenger Class distribution consistent between train and test sets (no sampling bias).\n",
    "* Survival rates by Pclass:\n",
    "  - 1: good survival rate (approx. 2-to-1 odds of surviving)\n",
    "  - 2: flip of a coin\n",
    "  - 3: really poor survival rate (approx. 1-in-4 survived)"
   ]
  },
  {
   "cell_type": "code",
   "execution_count": 14,
   "metadata": {},
   "outputs": [
    {
     "data": {
      "image/png": "[encoded data removed]",
      "text/plain": [
       "<matplotlib.figure.Figure at 0x7f8376b7cb00>"
      ]
     },
     "metadata": {},
     "output_type": "display_data"
    }
   ],
   "source": [
    "fig = plt.figure(figsize=(14,10))\n",
    "ax1 = fig.add_subplot(2,2,1)\n",
    "(rate_P1,rate_P2,rate_P3) = (round(100.0*(combined_df.Pclass==1).sum()/combined_df.Pclass.count(),1),\n",
    "                             round(100.0*(combined_df.Pclass==2).sum()/combined_df.Pclass.count(),1),\n",
    "                             round(100.0*(combined_df.Pclass==3).sum()/combined_df.Pclass.count(),1))\n",
    "data = combined_df.groupby(['Pclass']).size()\n",
    "data.plot(kind='bar',title='Overall Class Distribution - (P1={}%, P2={}%, P3={}%)'.format(rate_P1,rate_P2,rate_P3),ax=ax1);\n",
    "\n",
    "ax3 = fig.add_subplot(2,2,3)\n",
    "(rate_P1,rate_P2,rate_P3) = (round(100.0*(df.Pclass==1).sum()/df.Pclass.count(),1),\n",
    "                             round(100.0*(df.Pclass==2).sum()/df.Pclass.count(),1),\n",
    "                             round(100.0*(df.Pclass==3).sum()/df.Pclass.count(),1))\n",
    "data = combined_df.groupby(['Pclass']).size()\n",
    "data.plot(kind='bar',title='Class Distribution (Train Only) - (P1={}%, P2={}%, P3={}%)'.format(rate_P1,rate_P2,rate_P3),ax=ax3);\n",
    "\n",
    "ax4 = fig.add_subplot(2,2,4)\n",
    "data = df.groupby(['Pclass', 'Survived']).size()\n",
    "data.unstack().plot(kind='bar',title='Impact of Passenger Class on Survival (Train Only)',ax=ax4);"
   ]
  },
  {
   "cell_type": "markdown",
   "metadata": {},
   "source": [
    "#### Interactions between Gender and Passenger Class"
   ]
  },
  {
   "cell_type": "code",
   "execution_count": 15,
   "metadata": {},
   "outputs": [
    {
     "data": {
      "image/png": "[encoded data removed]",
      "text/plain": [
       "<matplotlib.figure.Figure at 0x7f8378cfb9b0>"
      ]
     },
     "metadata": {},
     "output_type": "display_data"
    }
   ],
   "source": [
    "fig = plt.figure(figsize=(7,5))\n",
    "ax1 = fig.add_subplot(1,1,1)\n",
    "df1 = df.copy()\n",
    "df1['GenderClass'] = df1.apply(lambda x: '{}{}'.format(x.Sex[0:1].upper(),x.Pclass),axis=1)\n",
    "data = df1.groupby([ 'GenderClass', 'Survived']).size()\n",
    "data.unstack().plot(kind='bar',title='Impact of Gender and Passenger Class on Survival (Train Only)',ax=ax1);"
   ]
  },
  {
   "cell_type": "markdown",
   "metadata": {},
   "source": [
    "### Additional Exploration and Missing Value Handling:"
   ]
  },
  {
   "cell_type": "markdown",
   "metadata": {},
   "source": [
    "#### Age:\n",
    "* High number of missing values within Age variable.\n",
    "* There is certainly some information in this variable:\n",
    "  - High death rate in middle-aged band.\n",
    "  - Youth and older passengers more likely to survive."
   ]
  },
  {
   "cell_type": "code",
   "execution_count": 16,
   "metadata": {},
   "outputs": [
    {
     "data": {
      "image/png": "[encoded data removed]",
      "text/plain": [
       "<matplotlib.figure.Figure at 0x7f8376a7c160>"
      ]
     },
     "metadata": {},
     "output_type": "display_data"
    }
   ],
   "source": [
    "# Bucket Age to convert it into a Categorical Variable:\n",
    "combined_df['AgeBuckets'] = pd.cut(combined_df.Age,bins=5)\n",
    "\n",
    "fig = plt.figure(figsize=(12,12))\n",
    "ax1 = fig.add_subplot(3,1,1)\n",
    "data = combined_df.Age[~combined_df.Age.isnull()].apply(int).value_counts().sort_index()\n",
    "data.plot(kind='bar',title='Overall Age Distribution',ax=ax1)\n",
    "ax1.set_xticks([i for i in range(0,85,5)]);\n",
    "ax1.set_xticklabels([i for i in range(0,85,5)]);\n",
    "\n",
    "ax3 = fig.add_subplot(3,1,2)\n",
    "data = combined_df[~combined_df.Age.isnull()].groupby(['Survived']).Age\n",
    "data.plot(kind='density',title='Age Density Plots by Survival',ax=ax3);\n",
    "ax3.legend(title='Survived');\n",
    "\n",
    "ax2 = fig.add_subplot(3,1,3)\n",
    "data = combined_df.groupby(['AgeBuckets','Survived']).size()\n",
    "data.unstack().plot(kind='bar',title='Impact of Bucketed Age on Survival',ax=ax2);"
   ]
  },
  {
   "cell_type": "code",
   "execution_count": 17,
   "metadata": {},
   "outputs": [
    {
     "data": {
      "image/png": "[encoded data removed]",
      "text/plain": [
       "<matplotlib.figure.Figure at 0x7f8378ce9048>"
      ]
     },
     "metadata": {},
     "output_type": "display_data"
    }
   ],
   "source": [
    "# Rather than trying to impute a large number of missing values,\n",
    "#  we'll just use the informative middle-aged band as a variable:\n",
    "\n",
    "fig = plt.figure(figsize=(14,8))\n",
    "ax1 = fig.add_subplot(1,1,1)\n",
    "data = combined_df[['Age','Survived']].dropna().astype(int).groupby(['Age','Survived']).size()\n",
    "data.unstack().plot(kind='bar',ax=ax1);\n"
   ]
  },
  {
   "cell_type": "code",
   "execution_count": 20,
   "metadata": {},
   "outputs": [
    {
     "name": "stdout",
     "output_type": "stream",
     "text": [
      "0    1\n",
      "1    0\n",
      "2    1\n",
      "3    0\n",
      "4    0\n",
      "Name: age_16_to_34, dtype: int64\n",
      "0    0\n",
      "1    1\n",
      "2    0\n",
      "3    1\n",
      "4    1\n",
      "Name: age_35_to_47, dtype: int64\n"
     ]
    }
   ],
   "source": [
    "combined_df['age_16_to_34'] = ((combined_df.Age >= 16) & (combined_df.Age <= 34)).apply(int)\n",
    "combined_df['age_35_to_47'] = ((combined_df.Age >= 35) & (combined_df.Age <= 47)).apply(int)\n",
    "print(combined_df['age_16_to_34'].head())\n",
    "print(combined_df['age_35_to_47'].head())"
   ]
  },
  {
   "cell_type": "code",
   "execution_count": 21,
   "metadata": {},
   "outputs": [
    {
     "data": {
      "text/plain": [
       "Index(['Cabin', 'Embarked', 'Fare', 'Name', 'Parch', 'Pclass', 'Sex', 'SibSp',\n",
       "       'Survived', 'Ticket', 'age_16_to_34', 'age_35_to_47'],\n",
       "      dtype='object')"
      ]
     },
     "execution_count": 21,
     "metadata": {},
     "output_type": "execute_result"
    }
   ],
   "source": [
    "combined_df.columns\n",
    "combined_df.drop(['Age','AgeBuckets'],axis=1,inplace=True)\n",
    "combined_df.columns"
   ]
  },
  {
   "cell_type": "markdown",
   "metadata": {},
   "source": [
    "#### Fare:\n",
    "* Right skewed distribution.\n",
    "* Can either normalize, or bin to make this variable more usable in an ML algorithm."
   ]
  },
  {
   "cell_type": "code",
   "execution_count": 22,
   "metadata": {},
   "outputs": [
    {
     "data": {
      "text/html": [
       "<div>\n",
       "<style scoped>\n",
       "    .dataframe tbody tr th:only-of-type {\n",
       "        vertical-align: middle;\n",
       "    }\n",
       "\n",
       "    .dataframe tbody tr th {\n",
       "        vertical-align: top;\n",
       "    }\n",
       "\n",
       "    .dataframe thead th {\n",
       "        text-align: right;\n",
       "    }\n",
       "</style>\n",
       "<table border=\"1\" class=\"dataframe\">\n",
       "  <thead>\n",
       "    <tr style=\"text-align: right;\">\n",
       "      <th></th>\n",
       "      <th>Cabin</th>\n",
       "      <th>Embarked</th>\n",
       "      <th>Fare</th>\n",
       "      <th>Name</th>\n",
       "      <th>Parch</th>\n",
       "      <th>Pclass</th>\n",
       "      <th>Sex</th>\n",
       "      <th>SibSp</th>\n",
       "      <th>Survived</th>\n",
       "      <th>Ticket</th>\n",
       "      <th>age_16_to_34</th>\n",
       "      <th>age_35_to_47</th>\n",
       "    </tr>\n",
       "  </thead>\n",
       "  <tbody>\n",
       "    <tr>\n",
       "      <th>179</th>\n",
       "      <td>NaN</td>\n",
       "      <td>S</td>\n",
       "      <td>0.0</td>\n",
       "      <td>Leonard, Mr. Lionel</td>\n",
       "      <td>0</td>\n",
       "      <td>3</td>\n",
       "      <td>male</td>\n",
       "      <td>0</td>\n",
       "      <td>0.0</td>\n",
       "      <td>LINE</td>\n",
       "      <td>0</td>\n",
       "      <td>1</td>\n",
       "    </tr>\n",
       "    <tr>\n",
       "      <th>263</th>\n",
       "      <td>B94</td>\n",
       "      <td>S</td>\n",
       "      <td>0.0</td>\n",
       "      <td>Harrison, Mr. William</td>\n",
       "      <td>0</td>\n",
       "      <td>1</td>\n",
       "      <td>male</td>\n",
       "      <td>0</td>\n",
       "      <td>0.0</td>\n",
       "      <td>112059</td>\n",
       "      <td>0</td>\n",
       "      <td>1</td>\n",
       "    </tr>\n",
       "    <tr>\n",
       "      <th>271</th>\n",
       "      <td>NaN</td>\n",
       "      <td>S</td>\n",
       "      <td>0.0</td>\n",
       "      <td>Tornquist, Mr. William Henry</td>\n",
       "      <td>0</td>\n",
       "      <td>3</td>\n",
       "      <td>male</td>\n",
       "      <td>0</td>\n",
       "      <td>1.0</td>\n",
       "      <td>LINE</td>\n",
       "      <td>1</td>\n",
       "      <td>0</td>\n",
       "    </tr>\n",
       "    <tr>\n",
       "      <th>277</th>\n",
       "      <td>NaN</td>\n",
       "      <td>S</td>\n",
       "      <td>0.0</td>\n",
       "      <td>Parkes, Mr. Francis \"Frank\"</td>\n",
       "      <td>0</td>\n",
       "      <td>2</td>\n",
       "      <td>male</td>\n",
       "      <td>0</td>\n",
       "      <td>0.0</td>\n",
       "      <td>239853</td>\n",
       "      <td>0</td>\n",
       "      <td>0</td>\n",
       "    </tr>\n",
       "    <tr>\n",
       "      <th>302</th>\n",
       "      <td>NaN</td>\n",
       "      <td>S</td>\n",
       "      <td>0.0</td>\n",
       "      <td>Johnson, Mr. William Cahoone Jr</td>\n",
       "      <td>0</td>\n",
       "      <td>3</td>\n",
       "      <td>male</td>\n",
       "      <td>0</td>\n",
       "      <td>0.0</td>\n",
       "      <td>LINE</td>\n",
       "      <td>1</td>\n",
       "      <td>0</td>\n",
       "    </tr>\n",
       "    <tr>\n",
       "      <th>413</th>\n",
       "      <td>NaN</td>\n",
       "      <td>S</td>\n",
       "      <td>0.0</td>\n",
       "      <td>Cunningham, Mr. Alfred Fleming</td>\n",
       "      <td>0</td>\n",
       "      <td>2</td>\n",
       "      <td>male</td>\n",
       "      <td>0</td>\n",
       "      <td>0.0</td>\n",
       "      <td>239853</td>\n",
       "      <td>0</td>\n",
       "      <td>0</td>\n",
       "    </tr>\n",
       "    <tr>\n",
       "      <th>466</th>\n",
       "      <td>NaN</td>\n",
       "      <td>S</td>\n",
       "      <td>0.0</td>\n",
       "      <td>Campbell, Mr. William</td>\n",
       "      <td>0</td>\n",
       "      <td>2</td>\n",
       "      <td>male</td>\n",
       "      <td>0</td>\n",
       "      <td>0.0</td>\n",
       "      <td>239853</td>\n",
       "      <td>0</td>\n",
       "      <td>0</td>\n",
       "    </tr>\n",
       "    <tr>\n",
       "      <th>481</th>\n",
       "      <td>NaN</td>\n",
       "      <td>S</td>\n",
       "      <td>0.0</td>\n",
       "      <td>Frost, Mr. Anthony Wood \"Archie\"</td>\n",
       "      <td>0</td>\n",
       "      <td>2</td>\n",
       "      <td>male</td>\n",
       "      <td>0</td>\n",
       "      <td>0.0</td>\n",
       "      <td>239854</td>\n",
       "      <td>0</td>\n",
       "      <td>0</td>\n",
       "    </tr>\n",
       "    <tr>\n",
       "      <th>597</th>\n",
       "      <td>NaN</td>\n",
       "      <td>S</td>\n",
       "      <td>0.0</td>\n",
       "      <td>Johnson, Mr. Alfred</td>\n",
       "      <td>0</td>\n",
       "      <td>3</td>\n",
       "      <td>male</td>\n",
       "      <td>0</td>\n",
       "      <td>0.0</td>\n",
       "      <td>LINE</td>\n",
       "      <td>0</td>\n",
       "      <td>0</td>\n",
       "    </tr>\n",
       "    <tr>\n",
       "      <th>633</th>\n",
       "      <td>NaN</td>\n",
       "      <td>S</td>\n",
       "      <td>0.0</td>\n",
       "      <td>Parr, Mr. William Henry Marsh</td>\n",
       "      <td>0</td>\n",
       "      <td>1</td>\n",
       "      <td>male</td>\n",
       "      <td>0</td>\n",
       "      <td>0.0</td>\n",
       "      <td>112052</td>\n",
       "      <td>0</td>\n",
       "      <td>0</td>\n",
       "    </tr>\n",
       "    <tr>\n",
       "      <th>674</th>\n",
       "      <td>NaN</td>\n",
       "      <td>S</td>\n",
       "      <td>0.0</td>\n",
       "      <td>Watson, Mr. Ennis Hastings</td>\n",
       "      <td>0</td>\n",
       "      <td>2</td>\n",
       "      <td>male</td>\n",
       "      <td>0</td>\n",
       "      <td>0.0</td>\n",
       "      <td>239856</td>\n",
       "      <td>0</td>\n",
       "      <td>0</td>\n",
       "    </tr>\n",
       "    <tr>\n",
       "      <th>732</th>\n",
       "      <td>NaN</td>\n",
       "      <td>S</td>\n",
       "      <td>0.0</td>\n",
       "      <td>Knight, Mr. Robert J</td>\n",
       "      <td>0</td>\n",
       "      <td>2</td>\n",
       "      <td>male</td>\n",
       "      <td>0</td>\n",
       "      <td>0.0</td>\n",
       "      <td>239855</td>\n",
       "      <td>0</td>\n",
       "      <td>0</td>\n",
       "    </tr>\n",
       "    <tr>\n",
       "      <th>806</th>\n",
       "      <td>A36</td>\n",
       "      <td>S</td>\n",
       "      <td>0.0</td>\n",
       "      <td>Andrews, Mr. Thomas Jr</td>\n",
       "      <td>0</td>\n",
       "      <td>1</td>\n",
       "      <td>male</td>\n",
       "      <td>0</td>\n",
       "      <td>0.0</td>\n",
       "      <td>112050</td>\n",
       "      <td>0</td>\n",
       "      <td>1</td>\n",
       "    </tr>\n",
       "    <tr>\n",
       "      <th>815</th>\n",
       "      <td>B102</td>\n",
       "      <td>S</td>\n",
       "      <td>0.0</td>\n",
       "      <td>Fry, Mr. Richard</td>\n",
       "      <td>0</td>\n",
       "      <td>1</td>\n",
       "      <td>male</td>\n",
       "      <td>0</td>\n",
       "      <td>0.0</td>\n",
       "      <td>112058</td>\n",
       "      <td>0</td>\n",
       "      <td>0</td>\n",
       "    </tr>\n",
       "    <tr>\n",
       "      <th>822</th>\n",
       "      <td>NaN</td>\n",
       "      <td>S</td>\n",
       "      <td>0.0</td>\n",
       "      <td>Reuchlin, Jonkheer. John George</td>\n",
       "      <td>0</td>\n",
       "      <td>1</td>\n",
       "      <td>male</td>\n",
       "      <td>0</td>\n",
       "      <td>0.0</td>\n",
       "      <td>19972</td>\n",
       "      <td>0</td>\n",
       "      <td>1</td>\n",
       "    </tr>\n",
       "    <tr>\n",
       "      <th>1043</th>\n",
       "      <td>NaN</td>\n",
       "      <td>S</td>\n",
       "      <td>NaN</td>\n",
       "      <td>Storey, Mr. Thomas</td>\n",
       "      <td>0</td>\n",
       "      <td>3</td>\n",
       "      <td>male</td>\n",
       "      <td>0</td>\n",
       "      <td>NaN</td>\n",
       "      <td>3701</td>\n",
       "      <td>0</td>\n",
       "      <td>0</td>\n",
       "    </tr>\n",
       "    <tr>\n",
       "      <th>1157</th>\n",
       "      <td>NaN</td>\n",
       "      <td>S</td>\n",
       "      <td>0.0</td>\n",
       "      <td>Chisholm, Mr. Roderick Robert Crispin</td>\n",
       "      <td>0</td>\n",
       "      <td>1</td>\n",
       "      <td>male</td>\n",
       "      <td>0</td>\n",
       "      <td>NaN</td>\n",
       "      <td>112051</td>\n",
       "      <td>0</td>\n",
       "      <td>0</td>\n",
       "    </tr>\n",
       "    <tr>\n",
       "      <th>1263</th>\n",
       "      <td>B52 B54 B56</td>\n",
       "      <td>S</td>\n",
       "      <td>0.0</td>\n",
       "      <td>Ismay, Mr. Joseph Bruce</td>\n",
       "      <td>0</td>\n",
       "      <td>1</td>\n",
       "      <td>male</td>\n",
       "      <td>0</td>\n",
       "      <td>NaN</td>\n",
       "      <td>112058</td>\n",
       "      <td>0</td>\n",
       "      <td>0</td>\n",
       "    </tr>\n",
       "  </tbody>\n",
       "</table>\n",
       "</div>"
      ],
      "text/plain": [
       "            Cabin Embarked  Fare                                   Name  \\\n",
       "179           NaN        S   0.0                    Leonard, Mr. Lionel   \n",
       "263           B94        S   0.0                  Harrison, Mr. William   \n",
       "271           NaN        S   0.0           Tornquist, Mr. William Henry   \n",
       "277           NaN        S   0.0            Parkes, Mr. Francis \"Frank\"   \n",
       "302           NaN        S   0.0        Johnson, Mr. William Cahoone Jr   \n",
       "413           NaN        S   0.0         Cunningham, Mr. Alfred Fleming   \n",
       "466           NaN        S   0.0                  Campbell, Mr. William   \n",
       "481           NaN        S   0.0       Frost, Mr. Anthony Wood \"Archie\"   \n",
       "597           NaN        S   0.0                    Johnson, Mr. Alfred   \n",
       "633           NaN        S   0.0          Parr, Mr. William Henry Marsh   \n",
       "674           NaN        S   0.0             Watson, Mr. Ennis Hastings   \n",
       "732           NaN        S   0.0                   Knight, Mr. Robert J   \n",
       "806           A36        S   0.0                 Andrews, Mr. Thomas Jr   \n",
       "815          B102        S   0.0                       Fry, Mr. Richard   \n",
       "822           NaN        S   0.0        Reuchlin, Jonkheer. John George   \n",
       "1043          NaN        S   NaN                     Storey, Mr. Thomas   \n",
       "1157          NaN        S   0.0  Chisholm, Mr. Roderick Robert Crispin   \n",
       "1263  B52 B54 B56        S   0.0                Ismay, Mr. Joseph Bruce   \n",
       "\n",
       "      Parch  Pclass   Sex  SibSp  Survived  Ticket  age_16_to_34  age_35_to_47  \n",
       "179       0       3  male      0       0.0    LINE             0             1  \n",
       "263       0       1  male      0       0.0  112059             0             1  \n",
       "271       0       3  male      0       1.0    LINE             1             0  \n",
       "277       0       2  male      0       0.0  239853             0             0  \n",
       "302       0       3  male      0       0.0    LINE             1             0  \n",
       "413       0       2  male      0       0.0  239853             0             0  \n",
       "466       0       2  male      0       0.0  239853             0             0  \n",
       "481       0       2  male      0       0.0  239854             0             0  \n",
       "597       0       3  male      0       0.0    LINE             0             0  \n",
       "633       0       1  male      0       0.0  112052             0             0  \n",
       "674       0       2  male      0       0.0  239856             0             0  \n",
       "732       0       2  male      0       0.0  239855             0             0  \n",
       "806       0       1  male      0       0.0  112050             0             1  \n",
       "815       0       1  male      0       0.0  112058             0             0  \n",
       "822       0       1  male      0       0.0   19972             0             1  \n",
       "1043      0       3  male      0       NaN    3701             0             0  \n",
       "1157      0       1  male      0       NaN  112051             0             0  \n",
       "1263      0       1  male      0       NaN  112058             0             0  "
      ]
     },
     "execution_count": 22,
     "metadata": {},
     "output_type": "execute_result"
    }
   ],
   "source": [
    "# Impute Fare values for Null and 0 fare's:\n",
    "combined_df[(combined_df.Fare == 0) | (combined_df.Fare.isnull()) ]"
   ]
  },
  {
   "cell_type": "code",
   "execution_count": 23,
   "metadata": {},
   "outputs": [
    {
     "name": "stdout",
     "output_type": "stream",
     "text": [
      "Imputed using the mapping: {1: 61.3792, 2: 15.05, 3: 8.05}\n"
     ]
    }
   ],
   "source": [
    "# Use Median Pclass Fare to Impute missing values:\n",
    "pclass_to_fare_lookup = combined_df[~((combined_df.Fare == 0) | (combined_df.Fare.isnull())) ].groupby(['Pclass']).Fare.median()\n",
    "combined_df.loc[((combined_df.Fare == 0) | (combined_df.Fare.isnull())), 'Fare'] = \\\n",
    "    combined_df['Pclass'].map(dict(pclass_to_fare_lookup))\n",
    "\n",
    "print('Imputed using the mapping: {}'.format(dict(pclass_to_fare_lookup)))"
   ]
  },
  {
   "cell_type": "code",
   "execution_count": 24,
   "metadata": {},
   "outputs": [
    {
     "data": {
      "text/html": [
       "<div>\n",
       "<style scoped>\n",
       "    .dataframe tbody tr th:only-of-type {\n",
       "        vertical-align: middle;\n",
       "    }\n",
       "\n",
       "    .dataframe tbody tr th {\n",
       "        vertical-align: top;\n",
       "    }\n",
       "\n",
       "    .dataframe thead th {\n",
       "        text-align: right;\n",
       "    }\n",
       "</style>\n",
       "<table border=\"1\" class=\"dataframe\">\n",
       "  <thead>\n",
       "    <tr style=\"text-align: right;\">\n",
       "      <th></th>\n",
       "      <th>Cabin</th>\n",
       "      <th>Embarked</th>\n",
       "      <th>Fare</th>\n",
       "      <th>Name</th>\n",
       "      <th>Parch</th>\n",
       "      <th>Pclass</th>\n",
       "      <th>Sex</th>\n",
       "      <th>SibSp</th>\n",
       "      <th>Survived</th>\n",
       "      <th>Ticket</th>\n",
       "      <th>age_16_to_34</th>\n",
       "      <th>age_35_to_47</th>\n",
       "    </tr>\n",
       "  </thead>\n",
       "  <tbody>\n",
       "  </tbody>\n",
       "</table>\n",
       "</div>"
      ],
      "text/plain": [
       "Empty DataFrame\n",
       "Columns: [Cabin, Embarked, Fare, Name, Parch, Pclass, Sex, SibSp, Survived, Ticket, age_16_to_34, age_35_to_47]\n",
       "Index: []"
      ]
     },
     "execution_count": 24,
     "metadata": {},
     "output_type": "execute_result"
    }
   ],
   "source": [
    "# Checking that the imputation worked:\n",
    "combined_df[(combined_df.Fare == 0) | (combined_df.Fare.isnull()) ]"
   ]
  },
  {
   "cell_type": "code",
   "execution_count": 25,
   "metadata": {},
   "outputs": [
    {
     "data": {
      "image/png": "[encoded data removed]",
      "text/plain": [
       "<matplotlib.figure.Figure at 0x7f8378d092b0>"
      ]
     },
     "metadata": {},
     "output_type": "display_data"
    }
   ],
   "source": [
    "fig = plt.figure(figsize=(14,10))\n",
    "ax1 = fig.add_subplot(2,2,1)\n",
    "combined_df.Fare.plot(kind='hist',title='Overall Fare Distribution',ax=ax1);\n",
    "\n",
    "ax3 = fig.add_subplot(2,2,3)\n",
    "data = np.log(combined_df.Fare)\n",
    "data.plot(kind='hist',title='Log Distribution - ML Input',ax=ax3);\n",
    "\n",
    "#df['FareBuckets'] = pd.cut(combined_df.Fare,bins=5)\n",
    "df['FareBuckets'] = pd.qcut(combined_df.Fare,q=[0, .2, .4, .6, .8, 1.])\n",
    "ax4 = fig.add_subplot(2,2,4)\n",
    "data = df.groupby(['FareBuckets', 'Survived']).size()\n",
    "data.unstack().plot(kind='bar',title='Impact of Fare on Survival (Train Only)',ax=ax4);"
   ]
  },
  {
   "cell_type": "markdown",
   "metadata": {},
   "source": [
    "#### Other Variables Quick Treatments:\n",
    "* Drop \"Cabin\" variable\n",
    "* Impute missing values for \"Embarked\"\n",
    "* Add some additional features related to counting people per Ticket, per Family and per Last Name."
   ]
  },
  {
   "cell_type": "code",
   "execution_count": 26,
   "metadata": {},
   "outputs": [
    {
     "data": {
      "text/plain": [
       "Index(['Embarked', 'Fare', 'Name', 'Parch', 'Pclass', 'Sex', 'SibSp',\n",
       "       'Survived', 'Ticket', 'age_16_to_34', 'age_35_to_47'],\n",
       "      dtype='object')"
      ]
     },
     "execution_count": 26,
     "metadata": {},
     "output_type": "execute_result"
    }
   ],
   "source": [
    "# Drop Cabin -- decided to just leave this one out this go around:\n",
    "combined_df.drop(['Cabin'],axis=1,inplace=True)\n",
    "combined_df.columns"
   ]
  },
  {
   "cell_type": "code",
   "execution_count": 27,
   "metadata": {},
   "outputs": [
    {
     "data": {
      "text/html": [
       "<div>\n",
       "<style scoped>\n",
       "    .dataframe tbody tr th:only-of-type {\n",
       "        vertical-align: middle;\n",
       "    }\n",
       "\n",
       "    .dataframe tbody tr th {\n",
       "        vertical-align: top;\n",
       "    }\n",
       "\n",
       "    .dataframe thead th {\n",
       "        text-align: right;\n",
       "    }\n",
       "</style>\n",
       "<table border=\"1\" class=\"dataframe\">\n",
       "  <thead>\n",
       "    <tr style=\"text-align: right;\">\n",
       "      <th></th>\n",
       "      <th>Embarked</th>\n",
       "      <th>Fare</th>\n",
       "      <th>Name</th>\n",
       "      <th>Parch</th>\n",
       "      <th>Pclass</th>\n",
       "      <th>Sex</th>\n",
       "      <th>SibSp</th>\n",
       "      <th>Survived</th>\n",
       "      <th>Ticket</th>\n",
       "      <th>age_16_to_34</th>\n",
       "      <th>age_35_to_47</th>\n",
       "    </tr>\n",
       "  </thead>\n",
       "  <tbody>\n",
       "    <tr>\n",
       "      <th>61</th>\n",
       "      <td>NaN</td>\n",
       "      <td>80.0</td>\n",
       "      <td>Icard, Miss. Amelie</td>\n",
       "      <td>0</td>\n",
       "      <td>1</td>\n",
       "      <td>female</td>\n",
       "      <td>0</td>\n",
       "      <td>1.0</td>\n",
       "      <td>113572</td>\n",
       "      <td>0</td>\n",
       "      <td>1</td>\n",
       "    </tr>\n",
       "    <tr>\n",
       "      <th>829</th>\n",
       "      <td>NaN</td>\n",
       "      <td>80.0</td>\n",
       "      <td>Stone, Mrs. George Nelson (Martha Evelyn)</td>\n",
       "      <td>0</td>\n",
       "      <td>1</td>\n",
       "      <td>female</td>\n",
       "      <td>0</td>\n",
       "      <td>1.0</td>\n",
       "      <td>113572</td>\n",
       "      <td>0</td>\n",
       "      <td>0</td>\n",
       "    </tr>\n",
       "  </tbody>\n",
       "</table>\n",
       "</div>"
      ],
      "text/plain": [
       "    Embarked  Fare                                       Name  Parch  Pclass  \\\n",
       "61       NaN  80.0                        Icard, Miss. Amelie      0       1   \n",
       "829      NaN  80.0  Stone, Mrs. George Nelson (Martha Evelyn)      0       1   \n",
       "\n",
       "        Sex  SibSp  Survived  Ticket  age_16_to_34  age_35_to_47  \n",
       "61   female      0       1.0  113572             0             1  \n",
       "829  female      0       1.0  113572             0             0  "
      ]
     },
     "execution_count": 27,
     "metadata": {},
     "output_type": "execute_result"
    }
   ],
   "source": [
    "# Impute Embarked:\n",
    "combined_df[combined_df.Embarked.isnull()]"
   ]
  },
  {
   "cell_type": "code",
   "execution_count": 28,
   "metadata": {},
   "outputs": [
    {
     "data": {
      "text/html": [
       "<div>\n",
       "<style scoped>\n",
       "    .dataframe tbody tr th:only-of-type {\n",
       "        vertical-align: middle;\n",
       "    }\n",
       "\n",
       "    .dataframe tbody tr th {\n",
       "        vertical-align: top;\n",
       "    }\n",
       "\n",
       "    .dataframe thead th {\n",
       "        text-align: right;\n",
       "    }\n",
       "</style>\n",
       "<table border=\"1\" class=\"dataframe\">\n",
       "  <thead>\n",
       "    <tr style=\"text-align: right;\">\n",
       "      <th></th>\n",
       "      <th>Fare</th>\n",
       "    </tr>\n",
       "    <tr>\n",
       "      <th>Embarked</th>\n",
       "      <th></th>\n",
       "    </tr>\n",
       "  </thead>\n",
       "  <tbody>\n",
       "    <tr>\n",
       "      <th>C</th>\n",
       "      <td>62.336267</td>\n",
       "    </tr>\n",
       "    <tr>\n",
       "      <th>Q</th>\n",
       "      <td>12.409012</td>\n",
       "    </tr>\n",
       "    <tr>\n",
       "      <th>S</th>\n",
       "      <td>28.001740</td>\n",
       "    </tr>\n",
       "  </tbody>\n",
       "</table>\n",
       "</div>"
      ],
      "text/plain": [
       "               Fare\n",
       "Embarked           \n",
       "C         62.336267\n",
       "Q         12.409012\n",
       "S         28.001740"
      ]
     },
     "execution_count": 28,
     "metadata": {},
     "output_type": "execute_result"
    }
   ],
   "source": [
    "# Fare by Embarkation point:\n",
    "pd.DataFrame(combined_df.groupby(['Embarked']).Fare.mean())"
   ]
  },
  {
   "cell_type": "code",
   "execution_count": 29,
   "metadata": {},
   "outputs": [
    {
     "data": {
      "text/html": [
       "<div>\n",
       "<style scoped>\n",
       "    .dataframe tbody tr th:only-of-type {\n",
       "        vertical-align: middle;\n",
       "    }\n",
       "\n",
       "    .dataframe tbody tr th {\n",
       "        vertical-align: top;\n",
       "    }\n",
       "\n",
       "    .dataframe thead th {\n",
       "        text-align: right;\n",
       "    }\n",
       "</style>\n",
       "<table border=\"1\" class=\"dataframe\">\n",
       "  <thead>\n",
       "    <tr style=\"text-align: right;\">\n",
       "      <th></th>\n",
       "      <th></th>\n",
       "      <th>0</th>\n",
       "    </tr>\n",
       "    <tr>\n",
       "      <th>Embarked</th>\n",
       "      <th>Pclass</th>\n",
       "      <th></th>\n",
       "    </tr>\n",
       "  </thead>\n",
       "  <tbody>\n",
       "    <tr>\n",
       "      <th rowspan=\"3\" valign=\"top\">C</th>\n",
       "      <th>1</th>\n",
       "      <td>141</td>\n",
       "    </tr>\n",
       "    <tr>\n",
       "      <th>2</th>\n",
       "      <td>28</td>\n",
       "    </tr>\n",
       "    <tr>\n",
       "      <th>3</th>\n",
       "      <td>101</td>\n",
       "    </tr>\n",
       "    <tr>\n",
       "      <th rowspan=\"3\" valign=\"top\">Q</th>\n",
       "      <th>1</th>\n",
       "      <td>3</td>\n",
       "    </tr>\n",
       "    <tr>\n",
       "      <th>2</th>\n",
       "      <td>7</td>\n",
       "    </tr>\n",
       "    <tr>\n",
       "      <th>3</th>\n",
       "      <td>113</td>\n",
       "    </tr>\n",
       "    <tr>\n",
       "      <th rowspan=\"3\" valign=\"top\">S</th>\n",
       "      <th>1</th>\n",
       "      <td>177</td>\n",
       "    </tr>\n",
       "    <tr>\n",
       "      <th>2</th>\n",
       "      <td>242</td>\n",
       "    </tr>\n",
       "    <tr>\n",
       "      <th>3</th>\n",
       "      <td>495</td>\n",
       "    </tr>\n",
       "  </tbody>\n",
       "</table>\n",
       "</div>"
      ],
      "text/plain": [
       "                   0\n",
       "Embarked Pclass     \n",
       "C        1       141\n",
       "         2        28\n",
       "         3       101\n",
       "Q        1         3\n",
       "         2         7\n",
       "         3       113\n",
       "S        1       177\n",
       "         2       242\n",
       "         3       495"
      ]
     },
     "execution_count": 29,
     "metadata": {},
     "output_type": "execute_result"
    }
   ],
   "source": [
    "# Pclass by Embarkation Point:\n",
    "pd.DataFrame(combined_df.groupby(['Embarked','Pclass']).size())"
   ]
  },
  {
   "cell_type": "code",
   "execution_count": 30,
   "metadata": {},
   "outputs": [
    {
     "data": {
      "text/html": [
       "<div>\n",
       "<style scoped>\n",
       "    .dataframe tbody tr th:only-of-type {\n",
       "        vertical-align: middle;\n",
       "    }\n",
       "\n",
       "    .dataframe tbody tr th {\n",
       "        vertical-align: top;\n",
       "    }\n",
       "\n",
       "    .dataframe thead th {\n",
       "        text-align: right;\n",
       "    }\n",
       "</style>\n",
       "<table border=\"1\" class=\"dataframe\">\n",
       "  <thead>\n",
       "    <tr style=\"text-align: right;\">\n",
       "      <th></th>\n",
       "      <th>count</th>\n",
       "      <th>mean</th>\n",
       "      <th>std</th>\n",
       "      <th>min</th>\n",
       "      <th>25%</th>\n",
       "      <th>50%</th>\n",
       "      <th>75%</th>\n",
       "      <th>max</th>\n",
       "    </tr>\n",
       "    <tr>\n",
       "      <th>Embarked</th>\n",
       "      <th></th>\n",
       "      <th></th>\n",
       "      <th></th>\n",
       "      <th></th>\n",
       "      <th></th>\n",
       "      <th></th>\n",
       "      <th></th>\n",
       "      <th></th>\n",
       "    </tr>\n",
       "  </thead>\n",
       "  <tbody>\n",
       "    <tr>\n",
       "      <th>C</th>\n",
       "      <td>141.0</td>\n",
       "      <td>106.84533</td>\n",
       "      <td>96.837527</td>\n",
       "      <td>25.7417</td>\n",
       "      <td>49.5042</td>\n",
       "      <td>76.7292</td>\n",
       "      <td>134.500</td>\n",
       "      <td>512.3292</td>\n",
       "    </tr>\n",
       "    <tr>\n",
       "      <th>Q</th>\n",
       "      <td>3.0</td>\n",
       "      <td>90.00000</td>\n",
       "      <td>0.000000</td>\n",
       "      <td>90.0000</td>\n",
       "      <td>90.0000</td>\n",
       "      <td>90.0000</td>\n",
       "      <td>90.000</td>\n",
       "      <td>90.0000</td>\n",
       "    </tr>\n",
       "    <tr>\n",
       "      <th>S</th>\n",
       "      <td>177.0</td>\n",
       "      <td>74.57552</td>\n",
       "      <td>60.291367</td>\n",
       "      <td>5.0000</td>\n",
       "      <td>30.5000</td>\n",
       "      <td>52.5542</td>\n",
       "      <td>83.475</td>\n",
       "      <td>263.0000</td>\n",
       "    </tr>\n",
       "  </tbody>\n",
       "</table>\n",
       "</div>"
      ],
      "text/plain": [
       "          count       mean        std      min      25%      50%      75%  \\\n",
       "Embarked                                                                    \n",
       "C         141.0  106.84533  96.837527  25.7417  49.5042  76.7292  134.500   \n",
       "Q           3.0   90.00000   0.000000  90.0000  90.0000  90.0000   90.000   \n",
       "S         177.0   74.57552  60.291367   5.0000  30.5000  52.5542   83.475   \n",
       "\n",
       "               max  \n",
       "Embarked            \n",
       "C         512.3292  \n",
       "Q          90.0000  \n",
       "S         263.0000  "
      ]
     },
     "execution_count": 30,
     "metadata": {},
     "output_type": "execute_result"
    }
   ],
   "source": [
    "# Fare statistics for the various Embarkation points:\n",
    "pd.DataFrame(combined_df[combined_df.Pclass==1].groupby(['Embarked']).Fare.describe())"
   ]
  },
  {
   "cell_type": "code",
   "execution_count": 31,
   "metadata": {},
   "outputs": [
    {
     "data": {
      "text/html": [
       "<div>\n",
       "<style scoped>\n",
       "    .dataframe tbody tr th:only-of-type {\n",
       "        vertical-align: middle;\n",
       "    }\n",
       "\n",
       "    .dataframe tbody tr th {\n",
       "        vertical-align: top;\n",
       "    }\n",
       "\n",
       "    .dataframe thead th {\n",
       "        text-align: right;\n",
       "    }\n",
       "</style>\n",
       "<table border=\"1\" class=\"dataframe\">\n",
       "  <thead>\n",
       "    <tr style=\"text-align: right;\">\n",
       "      <th></th>\n",
       "      <th>Embarked</th>\n",
       "      <th>Fare</th>\n",
       "      <th>Name</th>\n",
       "      <th>Parch</th>\n",
       "      <th>Pclass</th>\n",
       "      <th>Sex</th>\n",
       "      <th>SibSp</th>\n",
       "      <th>Survived</th>\n",
       "      <th>Ticket</th>\n",
       "      <th>age_16_to_34</th>\n",
       "      <th>age_35_to_47</th>\n",
       "    </tr>\n",
       "  </thead>\n",
       "  <tbody>\n",
       "  </tbody>\n",
       "</table>\n",
       "</div>"
      ],
      "text/plain": [
       "Empty DataFrame\n",
       "Columns: [Embarked, Fare, Name, Parch, Pclass, Sex, SibSp, Survived, Ticket, age_16_to_34, age_35_to_47]\n",
       "Index: []"
      ]
     },
     "execution_count": 31,
     "metadata": {},
     "output_type": "execute_result"
    }
   ],
   "source": [
    "combined_df.Embarked.fillna('S',inplace=True)\n",
    "combined_df[combined_df.Embarked.isnull()]"
   ]
  },
  {
   "cell_type": "code",
   "execution_count": 32,
   "metadata": {},
   "outputs": [],
   "source": [
    "# Create variable; people_per_ticket (based on \"Ticket\" input variable):\n",
    "combined_df = combined_df.merge(pd.DataFrame(combined_df.groupby('Ticket').size(),\n",
    "                                             columns=['people_per_ticket']),\n",
    "                                how='left', left_on='Ticket', right_index=True)\n",
    "combined_df.drop(['Ticket'],axis=1,inplace=True)"
   ]
  },
  {
   "cell_type": "code",
   "execution_count": 33,
   "metadata": {},
   "outputs": [],
   "source": [
    "# Create variable; people_per_lastname (based on \"Name\" input variable):\n",
    "combined_df['Lastname'] = combined_df.Name.apply(lambda x: x.split(',')[0])\n",
    "combined_df = combined_df.merge(pd.DataFrame(combined_df.groupby('Lastname').size(),\n",
    "                                             columns=['people_per_lastname']),\n",
    "                                how='left', left_on='Lastname', right_index=True)\n",
    "combined_df.drop(['Name','Lastname'],axis=1,inplace=True)"
   ]
  },
  {
   "cell_type": "code",
   "execution_count": 34,
   "metadata": {},
   "outputs": [],
   "source": [
    "# Create variable; people in family based on \"Parch\" and \"SibSp\" input variables:\n",
    "combined_df['people_in_family'] = combined_df.apply(lambda x: x.Parch+x.SibSp+1,axis=1)\n",
    "combined_df.drop(['Parch','SibSp'],axis=1,inplace=True)"
   ]
  },
  {
   "cell_type": "markdown",
   "metadata": {},
   "source": [
    "### Double check that all data is imputed (no missing values):"
   ]
  },
  {
   "cell_type": "code",
   "execution_count": 35,
   "metadata": {},
   "outputs": [
    {
     "data": {
      "text/plain": [
       "Embarked                 0\n",
       "Fare                     0\n",
       "Pclass                   0\n",
       "Sex                      0\n",
       "Survived               418\n",
       "age_16_to_34             0\n",
       "age_35_to_47             0\n",
       "people_per_ticket        0\n",
       "people_per_lastname      0\n",
       "people_in_family         0\n",
       "dtype: int64"
      ]
     },
     "execution_count": 35,
     "metadata": {},
     "output_type": "execute_result"
    }
   ],
   "source": [
    "combined_df.isnull().sum()"
   ]
  },
  {
   "cell_type": "code",
   "execution_count": 36,
   "metadata": {},
   "outputs": [
    {
     "name": "stdout",
     "output_type": "stream",
     "text": [
      "<class 'pandas.core.frame.DataFrame'>\n",
      "RangeIndex: 1309 entries, 0 to 1308\n",
      "Data columns (total 10 columns):\n",
      "Embarked               1309 non-null object\n",
      "Fare                   1309 non-null float64\n",
      "Pclass                 1309 non-null int64\n",
      "Sex                    1309 non-null object\n",
      "Survived               891 non-null float64\n",
      "age_16_to_34           1309 non-null int64\n",
      "age_35_to_47           1309 non-null int64\n",
      "people_per_ticket      1309 non-null int64\n",
      "people_per_lastname    1309 non-null int64\n",
      "people_in_family       1309 non-null int64\n",
      "dtypes: float64(2), int64(6), object(2)\n",
      "memory usage: 102.3+ KB\n"
     ]
    }
   ],
   "source": [
    "combined_df.info()"
   ]
  },
  {
   "cell_type": "markdown",
   "metadata": {},
   "source": [
    "#### Encoding of values for ML input:\n",
    "* Most models do not accept Text or any other non-numerical data as input.\n",
    "* The below makes the necessary changes to encode the input features in a format that can be handled by Scikit Learn."
   ]
  },
  {
   "cell_type": "code",
   "execution_count": 37,
   "metadata": {},
   "outputs": [],
   "source": [
    "# Panda's get_dummies function is really convenient for encoding categorical variables using one-hot encoding:\n",
    "combined_df = \\\n",
    "pd.get_dummies(combined_df,\n",
    "               prefix = {'Sex': 'sex', 'Embarked': 'embarked', 'Pclass': 'pclass'},\n",
    "               drop_first=True,\n",
    "               columns = ['Sex', 'Embarked', 'Pclass'])"
   ]
  },
  {
   "cell_type": "code",
   "execution_count": null,
   "metadata": {},
   "outputs": [],
   "source": [
    "# Scikit learn also provides similar functionality, but the marshalling of such values back into the DataFrame adds some complexity:\n",
    "#encoder = LabelBinarizer()\n",
    "#combined_df['sex']=encoder.fit_transform(combined_df.Sex)\n",
    "#combined_df.groupby(['Sex','sex']).size()"
   ]
  },
  {
   "cell_type": "code",
   "execution_count": 38,
   "metadata": {},
   "outputs": [],
   "source": [
    "# Log of Fare value to normalize range:\n",
    "combined_df['fareLog'] = np.log(combined_df.Fare)\n",
    "# Standard Scaled version of Fare:\n",
    "scaler = StandardScaler()\n",
    "scaler.fit(combined_df[combined_df.Survived.notnull()].Fare.values.reshape(-1,1))\n",
    "combined_df['fareScaled'] = scaler.transform(combined_df.Fare.values.reshape(-1,1))"
   ]
  },
  {
   "cell_type": "code",
   "execution_count": 39,
   "metadata": {},
   "outputs": [
    {
     "data": {
      "text/plain": [
       "count    8.910000e+02\n",
       "mean    -6.778466e-17\n",
       "std      1.000562e+00\n",
       "min     -5.783102e-01\n",
       "25%     -4.994001e-01\n",
       "50%     -3.667908e-01\n",
       "75%     -2.846075e-02\n",
       "max      9.673781e+00\n",
       "Name: fareScaled, dtype: float64"
      ]
     },
     "execution_count": 39,
     "metadata": {},
     "output_type": "execute_result"
    }
   ],
   "source": [
    "combined_df[combined_df.Survived.notnull()].fareScaled.describe() # --> Mean = 0, Std Deviation = 1"
   ]
  },
  {
   "cell_type": "code",
   "execution_count": 40,
   "metadata": {},
   "outputs": [
    {
     "data": {
      "image/png": "[encoded data removed]",
      "text/plain": [
       "<matplotlib.figure.Figure at 0x7f83766093c8>"
      ]
     },
     "metadata": {},
     "output_type": "display_data"
    }
   ],
   "source": [
    "# Quick look at distributions of Fare features:\n",
    "fig = plt.figure(figsize=(12,6))\n",
    "ax1 = fig.add_subplot(1,2,1)\n",
    "ax2 = fig.add_subplot(1,2,2)\n",
    "combined_df.fareLog.plot(kind='hist', title='Log Normalization', ax=ax1);\n",
    "combined_df.fareScaled.plot(kind='hist',title='StandardScaler Normalization', ax=ax2);"
   ]
  },
  {
   "cell_type": "code",
   "execution_count": 41,
   "metadata": {},
   "outputs": [
    {
     "data": {
      "text/plain": [
       "Index(['Fare', 'Survived', 'age_16_to_34', 'age_35_to_47', 'people_per_ticket',\n",
       "       'people_per_lastname', 'people_in_family', 'sex_male', 'embarked_Q',\n",
       "       'embarked_S', 'pclass_2', 'pclass_3', 'fareLog', 'fareScaled'],\n",
       "      dtype='object')"
      ]
     },
     "execution_count": 41,
     "metadata": {},
     "output_type": "execute_result"
    }
   ],
   "source": [
    "combined_df.columns"
   ]
  },
  {
   "cell_type": "code",
   "execution_count": 43,
   "metadata": {},
   "outputs": [],
   "source": [
    "combined_df.drop(['Fare'],axis=1,inplace=True)"
   ]
  },
  {
   "cell_type": "code",
   "execution_count": 44,
   "metadata": {},
   "outputs": [
    {
     "data": {
      "text/plain": [
       "Index(['Survived', 'age_16_to_34', 'age_35_to_47', 'people_per_ticket',\n",
       "       'people_per_lastname', 'people_in_family', 'sex_male', 'embarked_Q',\n",
       "       'embarked_S', 'pclass_2', 'pclass_3', 'fareLog', 'fareScaled'],\n",
       "      dtype='object')"
      ]
     },
     "execution_count": 44,
     "metadata": {},
     "output_type": "execute_result"
    }
   ],
   "source": [
    "combined_df.columns"
   ]
  },
  {
   "cell_type": "markdown",
   "metadata": {},
   "source": [
    "## Prep for Model Building:"
   ]
  },
  {
   "cell_type": "code",
   "execution_count": 45,
   "metadata": {},
   "outputs": [
    {
     "name": "stdout",
     "output_type": "stream",
     "text": [
      "(623, 12)\n",
      "(160, 12)\n",
      "(108, 12)\n"
     ]
    },
    {
     "name": "stderr",
     "output_type": "stream",
     "text": [
      "/opt/conda/lib/python3.6/site-packages/sklearn/model_selection/_split.py:2026: FutureWarning: From version 0.21, test_size will always complement train_size unless both are specified.\n",
      "  FutureWarning)\n"
     ]
    },
    {
     "data": {
      "text/html": [
       "<div>\n",
       "<style scoped>\n",
       "    .dataframe tbody tr th:only-of-type {\n",
       "        vertical-align: middle;\n",
       "    }\n",
       "\n",
       "    .dataframe tbody tr th {\n",
       "        vertical-align: top;\n",
       "    }\n",
       "\n",
       "    .dataframe thead th {\n",
       "        text-align: right;\n",
       "    }\n",
       "</style>\n",
       "<table border=\"1\" class=\"dataframe\">\n",
       "  <thead>\n",
       "    <tr style=\"text-align: right;\">\n",
       "      <th></th>\n",
       "      <th>age_16_to_34</th>\n",
       "      <th>age_35_to_47</th>\n",
       "      <th>people_per_ticket</th>\n",
       "      <th>people_per_lastname</th>\n",
       "      <th>people_in_family</th>\n",
       "      <th>sex_male</th>\n",
       "      <th>embarked_Q</th>\n",
       "      <th>embarked_S</th>\n",
       "      <th>pclass_2</th>\n",
       "      <th>pclass_3</th>\n",
       "      <th>fareLog</th>\n",
       "      <th>fareScaled</th>\n",
       "    </tr>\n",
       "  </thead>\n",
       "  <tbody>\n",
       "    <tr>\n",
       "      <th>445</th>\n",
       "      <td>0</td>\n",
       "      <td>0</td>\n",
       "      <td>3</td>\n",
       "      <td>3</td>\n",
       "      <td>3</td>\n",
       "      <td>1</td>\n",
       "      <td>0</td>\n",
       "      <td>1</td>\n",
       "      <td>0</td>\n",
       "      <td>0</td>\n",
       "      <td>4.404990</td>\n",
       "      <td>0.991739</td>\n",
       "    </tr>\n",
       "    <tr>\n",
       "      <th>650</th>\n",
       "      <td>0</td>\n",
       "      <td>0</td>\n",
       "      <td>1</td>\n",
       "      <td>1</td>\n",
       "      <td>1</td>\n",
       "      <td>1</td>\n",
       "      <td>0</td>\n",
       "      <td>1</td>\n",
       "      <td>0</td>\n",
       "      <td>1</td>\n",
       "      <td>2.066331</td>\n",
       "      <td>-0.499989</td>\n",
       "    </tr>\n",
       "    <tr>\n",
       "      <th>172</th>\n",
       "      <td>0</td>\n",
       "      <td>0</td>\n",
       "      <td>3</td>\n",
       "      <td>6</td>\n",
       "      <td>3</td>\n",
       "      <td>0</td>\n",
       "      <td>0</td>\n",
       "      <td>1</td>\n",
       "      <td>0</td>\n",
       "      <td>1</td>\n",
       "      <td>2.409941</td>\n",
       "      <td>-0.434693</td>\n",
       "    </tr>\n",
       "    <tr>\n",
       "      <th>450</th>\n",
       "      <td>0</td>\n",
       "      <td>1</td>\n",
       "      <td>4</td>\n",
       "      <td>4</td>\n",
       "      <td>4</td>\n",
       "      <td>1</td>\n",
       "      <td>0</td>\n",
       "      <td>1</td>\n",
       "      <td>1</td>\n",
       "      <td>0</td>\n",
       "      <td>3.323236</td>\n",
       "      <td>-0.099555</td>\n",
       "    </tr>\n",
       "    <tr>\n",
       "      <th>314</th>\n",
       "      <td>0</td>\n",
       "      <td>1</td>\n",
       "      <td>3</td>\n",
       "      <td>4</td>\n",
       "      <td>3</td>\n",
       "      <td>1</td>\n",
       "      <td>0</td>\n",
       "      <td>1</td>\n",
       "      <td>1</td>\n",
       "      <td>0</td>\n",
       "      <td>3.267666</td>\n",
       "      <td>-0.129809</td>\n",
       "    </tr>\n",
       "  </tbody>\n",
       "</table>\n",
       "</div>"
      ],
      "text/plain": [
       "     age_16_to_34  age_35_to_47  people_per_ticket  people_per_lastname  \\\n",
       "445             0             0                  3                    3   \n",
       "650             0             0                  1                    1   \n",
       "172             0             0                  3                    6   \n",
       "450             0             1                  4                    4   \n",
       "314             0             1                  3                    4   \n",
       "\n",
       "     people_in_family  sex_male  embarked_Q  embarked_S  pclass_2  pclass_3  \\\n",
       "445                 3         1           0           1         0         0   \n",
       "650                 1         1           0           1         0         1   \n",
       "172                 3         0           0           1         0         1   \n",
       "450                 4         1           0           1         1         0   \n",
       "314                 3         1           0           1         1         0   \n",
       "\n",
       "      fareLog  fareScaled  \n",
       "445  4.404990    0.991739  \n",
       "650  2.066331   -0.499989  \n",
       "172  2.409941   -0.434693  \n",
       "450  3.323236   -0.099555  \n",
       "314  3.267666   -0.129809  "
      ]
     },
     "execution_count": 45,
     "metadata": {},
     "output_type": "execute_result"
    }
   ],
   "source": [
    "# Prep Training, Test, Validation Datasets:\n",
    "X = combined_df[combined_df.Survived.notnull()].drop(['Survived'],axis=1)\n",
    "y = combined_df[combined_df.Survived.notnull()]['Survived']\n",
    "\n",
    "X_train, X_test, y_train, y_test = train_test_split(X, y, train_size = 0.7, random_state=42)\n",
    "X_test, X_val, y_test, y_val = train_test_split(X_test, y_test, train_size = 0.6, random_state=42)\n",
    "\n",
    "print(X_train.shape)\n",
    "print(X_test.shape)\n",
    "print(X_val.shape)\n",
    "\n",
    "X_train.head()"
   ]
  },
  {
   "cell_type": "code",
   "execution_count": 46,
   "metadata": {},
   "outputs": [
    {
     "data": {
      "image/png": "[encoded data removed]",
      "text/plain": [
       "<matplotlib.figure.Figure at 0x7f8376495b70>"
      ]
     },
     "metadata": {},
     "output_type": "display_data"
    }
   ],
   "source": [
    "pd.plotting.scatter_matrix(X, c=y, figsize=(15,15), alpha=0.8, marker='o');"
   ]
  },
  {
   "cell_type": "code",
   "execution_count": 47,
   "metadata": {},
   "outputs": [
    {
     "data": {
      "image/png": "[encoded data removed]",
      "text/plain": [
       "<matplotlib.figure.Figure at 0x7f8373ef3f60>"
      ]
     },
     "metadata": {},
     "output_type": "display_data"
    }
   ],
   "source": [
    "fig = plt.figure(figsize=(15,15))\n",
    "ax = fig.add_subplot(1,1,1)\n",
    "c = X_train.corr()\n",
    "mat_ax = ax.matshow(c);\n",
    "fig.colorbar(mat_ax)\n",
    "plt.xticks(range(len(c.columns)), c.columns, rotation=45);\n",
    "plt.yticks(range(len(c.columns)), c.columns);"
   ]
  },
  {
   "cell_type": "markdown",
   "metadata": {},
   "source": [
    "## Model Creation:"
   ]
  },
  {
   "cell_type": "markdown",
   "metadata": {},
   "source": [
    "#### Quick Random Forest model:"
   ]
  },
  {
   "cell_type": "code",
   "execution_count": 48,
   "metadata": {},
   "outputs": [
    {
     "data": {
      "text/plain": [
       "RandomForestClassifier(bootstrap=True, class_weight=None, criterion='gini',\n",
       "            max_depth=4, max_features='auto', max_leaf_nodes=None,\n",
       "            min_impurity_decrease=0.0, min_impurity_split=None,\n",
       "            min_samples_leaf=1, min_samples_split=2,\n",
       "            min_weight_fraction_leaf=0.0, n_estimators=200, n_jobs=1,\n",
       "            oob_score=False, random_state=42, verbose=0, warm_start=False)"
      ]
     },
     "execution_count": 48,
     "metadata": {},
     "output_type": "execute_result"
    }
   ],
   "source": [
    "rf = RandomForestClassifier(n_estimators=200, max_depth=4, random_state=42)\n",
    "rf.fit(X_train,y_train)"
   ]
  },
  {
   "cell_type": "code",
   "execution_count": 49,
   "metadata": {},
   "outputs": [
    {
     "name": "stdout",
     "output_type": "stream",
     "text": [
      "Accuracy: 0.80625\n",
      "F1 Score: 0.7596899224806202\n",
      "Matthew's Corr Coef: 0.6218709510394705\n"
     ]
    },
    {
     "data": {
      "text/html": [
       "<div>\n",
       "<style scoped>\n",
       "    .dataframe tbody tr th:only-of-type {\n",
       "        vertical-align: middle;\n",
       "    }\n",
       "\n",
       "    .dataframe tbody tr th {\n",
       "        vertical-align: top;\n",
       "    }\n",
       "\n",
       "    .dataframe thead th {\n",
       "        text-align: right;\n",
       "    }\n",
       "</style>\n",
       "<table border=\"1\" class=\"dataframe\">\n",
       "  <thead>\n",
       "    <tr style=\"text-align: right;\">\n",
       "      <th></th>\n",
       "      <th>Pred_Died</th>\n",
       "      <th>Pred_Survived</th>\n",
       "    </tr>\n",
       "  </thead>\n",
       "  <tbody>\n",
       "    <tr>\n",
       "      <th>Actual_Died</th>\n",
       "      <td>80</td>\n",
       "      <td>6</td>\n",
       "    </tr>\n",
       "    <tr>\n",
       "      <th>Actual_Survived</th>\n",
       "      <td>25</td>\n",
       "      <td>49</td>\n",
       "    </tr>\n",
       "  </tbody>\n",
       "</table>\n",
       "</div>"
      ],
      "text/plain": [
       "                 Pred_Died  Pred_Survived\n",
       "Actual_Died             80              6\n",
       "Actual_Survived         25             49"
      ]
     },
     "execution_count": 49,
     "metadata": {},
     "output_type": "execute_result"
    }
   ],
   "source": [
    "# Confusion Matrix:\n",
    "y_actual = y_test\n",
    "y_pred = rf.predict(X_test)\n",
    "\n",
    "print(\"Accuracy: {}\".format(accuracy_score(y_actual, y_pred)))\n",
    "print(\"F1 Score: {}\".format(f1_score(y_actual, y_pred)))\n",
    "print(\"Matthew's Corr Coef: {}\".format(matthews_corrcoef(y_actual, y_pred)))\n",
    "\n",
    "pd.DataFrame(confusion_matrix(y_actual, y_pred),\n",
    "             columns=['Pred_Died','Pred_Survived'],\n",
    "             index=['Actual_Died','Actual_Survived'])"
   ]
  },
  {
   "cell_type": "markdown",
   "metadata": {},
   "source": [
    "### Exercise #4:\n",
    "<span style=\"color:blue\">\n",
    "Let's use Scikit Learn to build another model (named as \"svm\") - this time a Support Vector Machine. Remember that the workflow for Scikit Learn is: `Instatiate model -- Fit to data -- Predict`\n",
    "<ul>\n",
    "    <li>Instantiate model class: SVC()</li>\n",
    "    <li>Fit to training data</li>\n",
    "    <li>Evaluate using confusion matrix / performance metrics</li>\n",
    "</ul>\n",
    "</span>\n",
    "<div class=\"panel-group\" id=\"accordion-5\">\n",
    "  <div class=\"panel panel-default\">\n",
    "    <div class=\"panel-heading\">\n",
    "      <h4 class=\"panel-title\">\n",
    "        <a data-toggle=\"collapse\" data-parent=\"#accordion-5\" href=\"#collapse1-5\">Hints</a>\n",
    "    </h4>\n",
    "    </div>\n",
    "    <div id=\"collapse1-5\" class=\"panel-collapse collapse\">\n",
    "      <div class=\"panel-body\">\n",
    "Fitting to the training data can be done using: `svm.fit()` function - the data to fit with is: X_train, y_train.\n",
    "<br><br>\n",
    "To evaluate the model, we compare the y_test data (actual ground truth) against the predicted data; obtained using `svm.predict()` function.\n",
    "    </div>\n",
    "    </div>\n",
    "</div>\n",
    "  <div class=\"panel panel-default\">\n",
    "    <div class=\"panel-heading\">\n",
    "      <h4 class=\"panel-title\">\n",
    "        <a data-toggle=\"collapse\" data-parent=\"#accordion-5\" href=\"#collapse2-5\">Solution</a>\n",
    "    </h4>\n",
    "    </div>\n",
    "    <div id=\"collapse2-5\" class=\"panel-collapse collapse\">\n",
    "      <div class=\"panel-body\">\n",
    "One possible solution:\n",
    "<br><br>\n",
    "# Model creation and fitting:<br>\n",
    "`svm = SVC()`<br>\n",
    "`svm.fit(X_train,y_train)`<br>\n",
    "<br>\n",
    "# Model evaluation:<br>\n",
    "`y_actual = y_test`<br>\n",
    "`y_pred = svm.predict(X_test)`\n",
    "      </div>\n",
    "    </div>\n",
    "</div>\n",
    "</div>"
   ]
  },
  {
   "cell_type": "code",
   "execution_count": 50,
   "metadata": {},
   "outputs": [
    {
     "data": {
      "text/plain": [
       "SVC(C=1.0, cache_size=200, class_weight=None, coef0=0.0,\n",
       "  decision_function_shape='ovr', degree=3, gamma='auto', kernel='rbf',\n",
       "  max_iter=-1, probability=False, random_state=None, shrinking=True,\n",
       "  tol=0.001, verbose=False)"
      ]
     },
     "execution_count": 50,
     "metadata": {},
     "output_type": "execute_result"
    }
   ],
   "source": [
    "# Model creation and fitting:\n",
    "svm = SVC()\n",
    "svm.fit(X_train,y_train)"
   ]
  },
  {
   "cell_type": "code",
   "execution_count": 51,
   "metadata": {},
   "outputs": [
    {
     "name": "stdout",
     "output_type": "stream",
     "text": [
      "Accuracy: 0.825\n",
      "F1 Score: 0.7971014492753623\n",
      "Matthew's Corr Coef: 0.6499246519528296\n"
     ]
    },
    {
     "data": {
      "text/html": [
       "<div>\n",
       "<style scoped>\n",
       "    .dataframe tbody tr th:only-of-type {\n",
       "        vertical-align: middle;\n",
       "    }\n",
       "\n",
       "    .dataframe tbody tr th {\n",
       "        vertical-align: top;\n",
       "    }\n",
       "\n",
       "    .dataframe thead th {\n",
       "        text-align: right;\n",
       "    }\n",
       "</style>\n",
       "<table border=\"1\" class=\"dataframe\">\n",
       "  <thead>\n",
       "    <tr style=\"text-align: right;\">\n",
       "      <th></th>\n",
       "      <th>Pred_Died</th>\n",
       "      <th>Pred_Survived</th>\n",
       "    </tr>\n",
       "  </thead>\n",
       "  <tbody>\n",
       "    <tr>\n",
       "      <th>Actual_Died</th>\n",
       "      <td>77</td>\n",
       "      <td>9</td>\n",
       "    </tr>\n",
       "    <tr>\n",
       "      <th>Actual_Survived</th>\n",
       "      <td>19</td>\n",
       "      <td>55</td>\n",
       "    </tr>\n",
       "  </tbody>\n",
       "</table>\n",
       "</div>"
      ],
      "text/plain": [
       "                 Pred_Died  Pred_Survived\n",
       "Actual_Died             77              9\n",
       "Actual_Survived         19             55"
      ]
     },
     "execution_count": 51,
     "metadata": {},
     "output_type": "execute_result"
    }
   ],
   "source": [
    "# Check prediction accuracy using test set:\n",
    "y_actual = y_test\n",
    "y_pred = svm.predict(X_test)\n",
    "\n",
    "print(\"Accuracy: {}\".format(accuracy_score(y_actual, y_pred)))\n",
    "print(\"F1 Score: {}\".format(f1_score(y_actual, y_pred)))\n",
    "print(\"Matthew's Corr Coef: {}\".format(matthews_corrcoef(y_actual, y_pred)))\n",
    "\n",
    "pd.DataFrame(confusion_matrix(y_actual, y_pred),\n",
    "             columns=['Pred_Died','Pred_Survived'],\n",
    "             index=['Actual_Died','Actual_Survived'])"
   ]
  },
  {
   "cell_type": "markdown",
   "metadata": {},
   "source": [
    "_Questions:_\n",
    "* _How did the SVM model compare with the Random Forest model?_"
   ]
  },
  {
   "cell_type": "markdown",
   "metadata": {},
   "source": [
    "#### Using Cross Validation:\n",
    "* Applies fit on non-test folds of data and evaluates accuracy on the last fold of the data.\n",
    "* With cv=5 it's fitting the model 5 times to 4/5 of the data and then evaluating on the last 1/5th.\n",
    "* Using \"accuracy\" scoring by default, but can be changed by passing a different value to the \"scoring\" parameter."
   ]
  },
  {
   "cell_type": "code",
   "execution_count": 52,
   "metadata": {},
   "outputs": [
    {
     "name": "stdout",
     "output_type": "stream",
     "text": [
      "[0.72067039 0.81564246 0.83146067 0.78089888 0.81355932]\n",
      "Average Validation Score: 0.7924463443515415\n"
     ]
    }
   ],
   "source": [
    "# For the Random Forest model:\n",
    "res = cross_val_score(rf,X,y,cv=5)\n",
    "print(res)\n",
    "print(\"Average Validation Score: {}\".format(res.mean()))"
   ]
  },
  {
   "cell_type": "code",
   "execution_count": 53,
   "metadata": {},
   "outputs": [
    {
     "name": "stdout",
     "output_type": "stream",
     "text": [
      "[0.80446927 0.7877095  0.80337079 0.78651685 0.82485876]\n",
      "Average Validation Score: 0.8013850336922612\n"
     ]
    }
   ],
   "source": [
    "# For the Support Vector Machine model:\n",
    "res = cross_val_score(svm,X,y,cv=5)\n",
    "print(res)\n",
    "print(\"Average Validation Score: {}\".format(res.mean()))"
   ]
  },
  {
   "cell_type": "markdown",
   "metadata": {},
   "source": [
    "### Exercise #5:\n",
    "<span style=\"color:blue\">\n",
    "Let's use `cross_val_score` to evaluate quickly how a couple of other models will do at a high-level on this problem.\n",
    "* Let's evaluate `KNeighborsClassifier` (with parameter `n_neighbors`).\n",
    "* Also let's see how `LogisticRegression` model will do.\n",
    "</span>\n",
    "<div class=\"panel-group\" id=\"accordion-7\">\n",
    "  <div class=\"panel panel-default\">\n",
    "    <div class=\"panel-heading\">\n",
    "      <h4 class=\"panel-title\">\n",
    "        <a data-toggle=\"collapse\" data-parent=\"#accordion-7\" href=\"#collapse1-7\">Hints</a>\n",
    "    </h4>\n",
    "    </div>\n",
    "    <div id=\"collapse1-7\" class=\"panel-collapse collapse\">\n",
    "      <div class=\"panel-body\">\n",
    "Similar code to the above, except that we should instantiate `KNeighborsClassifier(n_neighbors=?)` and `LogisticRegression()` models (one at a time, or in a loop).\n",
    "    </div>\n",
    "    </div>\n",
    "</div>\n",
    "  <div class=\"panel panel-default\">\n",
    "    <div class=\"panel-heading\">\n",
    "      <h4 class=\"panel-title\">\n",
    "        <a data-toggle=\"collapse\" data-parent=\"#accordion-7\" href=\"#collapse2-7\">Solution</a>\n",
    "    </h4>\n",
    "    </div>\n",
    "    <div id=\"collapse2-7\" class=\"panel-collapse collapse\">\n",
    "      <div class=\"panel-body\">\n",
    "One possible solution:\n",
    "<br><br>\n",
    "for (name, modl) in [ ('KNeighbors', KNeighborsClassifier(n_neighbors=11)), ('LogisticRegression', LogisticRegression()) ]:\n",
    "<p style=\"margin-left: 40px\">print(\"{}:\".format(name))</p>\n",
    "<p style=\"margin-left: 40px\">res = cross_val_score(modl,X,y,cv=5)</p>\n",
    "<p style=\"margin-left: 40px\">print(res)</p>\n",
    "<p style=\"margin-left: 40px\">print(\"Average Validation Score: {}\".format(res.mean()))</p>\n",
    "<p style=\"margin-left: 40px\">print()</p>\n",
    "      </div>\n",
    "    </div>\n",
    "</div>\n",
    "</div>\n"
   ]
  },
  {
   "cell_type": "code",
   "execution_count": 54,
   "metadata": {},
   "outputs": [
    {
     "name": "stdout",
     "output_type": "stream",
     "text": [
      "KNeighbors:\n",
      "[0.72067039 0.74860335 0.79213483 0.80898876 0.75706215]\n",
      "Average Validation Score: 0.7654918970830067\n",
      "\n",
      "LogisticRegression:\n",
      "[0.7877095  0.81005587 0.7752809  0.78651685 0.8079096 ]\n",
      "Average Validation Score: 0.7934945440914509\n",
      "\n"
     ]
    }
   ],
   "source": [
    "# KNeighborsClassifier, LogisticRegression cross validation scores:\n",
    "for (name, modl) in [ ('KNeighbors', KNeighborsClassifier(n_neighbors=11)),\n",
    "                     ('LogisticRegression', LogisticRegression()) ]:\n",
    "    print(\"{}:\".format(name))\n",
    "    res = cross_val_score(modl,X,y,cv=5)\n",
    "    print(res)\n",
    "    print(\"Average Validation Score: {}\".format(res.mean()))\n",
    "    print()"
   ]
  },
  {
   "cell_type": "markdown",
   "metadata": {},
   "source": [
    "#### Using Grid Search to find optimal model parameters:"
   ]
  },
  {
   "cell_type": "code",
   "execution_count": 55,
   "metadata": {},
   "outputs": [
    {
     "data": {
      "text/plain": [
       "GridSearchCV(cv=5, error_score='raise',\n",
       "       estimator=RandomForestClassifier(bootstrap=True, class_weight=None, criterion='gini',\n",
       "            max_depth=None, max_features='auto', max_leaf_nodes=None,\n",
       "            min_impurity_decrease=0.0, min_impurity_split=None,\n",
       "            min_samples_leaf=1, min_samples_split=2,\n",
       "            min_weight_fraction_leaf=0.0, n_estimators=10, n_jobs=1,\n",
       "            oob_score=False, random_state=42, verbose=0, warm_start=False),\n",
       "       fit_params=None, iid=True, n_jobs=1,\n",
       "       param_grid={'n_estimators': [100, 150, 200], 'max_depth': [3, 5, 7], 'criterion': ('gini', 'entropy'), 'max_features': [5, 7, 9]},\n",
       "       pre_dispatch='2*n_jobs', refit=True, return_train_score='warn',\n",
       "       scoring=None, verbose=0)"
      ]
     },
     "execution_count": 55,
     "metadata": {},
     "output_type": "execute_result"
    }
   ],
   "source": [
    "# For the \n",
    "model_rf = RandomForestClassifier(random_state=42)\n",
    "params = {\n",
    "    'n_estimators' : [100, 150, 200],\n",
    "    'max_depth'    : [3, 5, 7],\n",
    "    'criterion'    : ('gini', 'entropy'),\n",
    "    'max_features' : [5, 7, 9]\n",
    "}\n",
    "\n",
    "gs_rf = GridSearchCV(model_rf, params, cv=5)\n",
    "gs_rf.fit(X_train,y_train)"
   ]
  },
  {
   "cell_type": "code",
   "execution_count": 56,
   "metadata": {},
   "outputs": [
    {
     "name": "stdout",
     "output_type": "stream",
     "text": [
      "RandomForestClassifier(bootstrap=True, class_weight=None, criterion='gini',\n",
      "            max_depth=7, max_features=9, max_leaf_nodes=None,\n",
      "            min_impurity_decrease=0.0, min_impurity_split=None,\n",
      "            min_samples_leaf=1, min_samples_split=2,\n",
      "            min_weight_fraction_leaf=0.0, n_estimators=100, n_jobs=1,\n",
      "            oob_score=False, random_state=42, verbose=0, warm_start=False)\n"
     ]
    },
    {
     "data": {
      "text/plain": [
       "0.8138041733547352"
      ]
     },
     "execution_count": 56,
     "metadata": {},
     "output_type": "execute_result"
    }
   ],
   "source": [
    "print(gs_rf.best_estimator_)\n",
    "gs_rf.best_score_"
   ]
  },
  {
   "cell_type": "code",
   "execution_count": 57,
   "metadata": {},
   "outputs": [
    {
     "name": "stdout",
     "output_type": "stream",
     "text": [
      "Accuracy: 0.825\n",
      "F1 Score: 0.7812500000000001\n",
      "Matthew's Corr Coef: 0.6634056573913786\n"
     ]
    },
    {
     "data": {
      "text/html": [
       "<div>\n",
       "<style scoped>\n",
       "    .dataframe tbody tr th:only-of-type {\n",
       "        vertical-align: middle;\n",
       "    }\n",
       "\n",
       "    .dataframe tbody tr th {\n",
       "        vertical-align: top;\n",
       "    }\n",
       "\n",
       "    .dataframe thead th {\n",
       "        text-align: right;\n",
       "    }\n",
       "</style>\n",
       "<table border=\"1\" class=\"dataframe\">\n",
       "  <thead>\n",
       "    <tr style=\"text-align: right;\">\n",
       "      <th></th>\n",
       "      <th>Pred_Died</th>\n",
       "      <th>Pred_Survived</th>\n",
       "    </tr>\n",
       "  </thead>\n",
       "  <tbody>\n",
       "    <tr>\n",
       "      <th>Actual_Died</th>\n",
       "      <td>82</td>\n",
       "      <td>4</td>\n",
       "    </tr>\n",
       "    <tr>\n",
       "      <th>Actual_Survived</th>\n",
       "      <td>24</td>\n",
       "      <td>50</td>\n",
       "    </tr>\n",
       "  </tbody>\n",
       "</table>\n",
       "</div>"
      ],
      "text/plain": [
       "                 Pred_Died  Pred_Survived\n",
       "Actual_Died             82              4\n",
       "Actual_Survived         24             50"
      ]
     },
     "execution_count": 57,
     "metadata": {},
     "output_type": "execute_result"
    }
   ],
   "source": [
    "# Confusion Matrix:\n",
    "y_actual = y_test\n",
    "y_pred = gs_rf.best_estimator_.predict(X_test)\n",
    "\n",
    "print(\"Accuracy: {}\".format(accuracy_score(y_actual, y_pred)))\n",
    "print(\"F1 Score: {}\".format(f1_score(y_actual, y_pred)))\n",
    "print(\"Matthew's Corr Coef: {}\".format(matthews_corrcoef(y_actual, y_pred)))\n",
    "\n",
    "pd.DataFrame(confusion_matrix(y_actual, y_pred),\n",
    "             columns=['Pred_Died','Pred_Survived'],\n",
    "             index=['Actual_Died','Actual_Survived'])"
   ]
  },
  {
   "cell_type": "code",
   "execution_count": 58,
   "metadata": {},
   "outputs": [
    {
     "data": {
      "image/png": "[encoded data removed]",
      "text/plain": [
       "<matplotlib.figure.Figure at 0x7f83743d3208>"
      ]
     },
     "metadata": {},
     "output_type": "display_data"
    }
   ],
   "source": [
    "# Useful functionality of Random Forest classifier - provides feature importance ranking:\n",
    "pd.DataFrame({'importances': gs_rf.best_estimator_.feature_importances_ },index=X_train.columns).plot(kind='bar');"
   ]
  },
  {
   "cell_type": "code",
   "execution_count": 59,
   "metadata": {},
   "outputs": [
    {
     "data": {
      "image/png": "[encoded data removed]",
      "text/plain": [
       "<matplotlib.figure.Figure at 0x7f8374321390>"
      ]
     },
     "metadata": {},
     "output_type": "display_data"
    }
   ],
   "source": [
    "# Slightly different importances for the un-optimized Random Forest Model:\n",
    "pd.DataFrame({'importances': rf.feature_importances_ },index=X_train.columns).plot(kind='bar');"
   ]
  },
  {
   "cell_type": "code",
   "execution_count": 60,
   "metadata": {},
   "outputs": [
    {
     "name": "stdout",
     "output_type": "stream",
     "text": [
      "Accuracy: 0.825\n",
      "F1 Score: 0.7846153846153845\n",
      "Matthew's Corr Coef: 0.6596566356880996\n"
     ]
    },
    {
     "data": {
      "text/html": [
       "<div>\n",
       "<style scoped>\n",
       "    .dataframe tbody tr th:only-of-type {\n",
       "        vertical-align: middle;\n",
       "    }\n",
       "\n",
       "    .dataframe tbody tr th {\n",
       "        vertical-align: top;\n",
       "    }\n",
       "\n",
       "    .dataframe thead th {\n",
       "        text-align: right;\n",
       "    }\n",
       "</style>\n",
       "<table border=\"1\" class=\"dataframe\">\n",
       "  <thead>\n",
       "    <tr style=\"text-align: right;\">\n",
       "      <th></th>\n",
       "      <th>Pred_Died</th>\n",
       "      <th>Pred_Survived</th>\n",
       "    </tr>\n",
       "  </thead>\n",
       "  <tbody>\n",
       "    <tr>\n",
       "      <th>Actual_Died</th>\n",
       "      <td>81</td>\n",
       "      <td>5</td>\n",
       "    </tr>\n",
       "    <tr>\n",
       "      <th>Actual_Survived</th>\n",
       "      <td>23</td>\n",
       "      <td>51</td>\n",
       "    </tr>\n",
       "  </tbody>\n",
       "</table>\n",
       "</div>"
      ],
      "text/plain": [
       "                 Pred_Died  Pred_Survived\n",
       "Actual_Died             81              5\n",
       "Actual_Survived         23             51"
      ]
     },
     "execution_count": 60,
     "metadata": {},
     "output_type": "execute_result"
    }
   ],
   "source": [
    "# Another grid-search example removing some of the correlated features:\n",
    "model_rf = RandomForestClassifier(random_state=42)\n",
    "params = {\n",
    "    'n_estimators' : [100, 150, 200],\n",
    "    'max_depth'    : [3, 5, 7],\n",
    "    'criterion'    : ('gini', 'entropy'),\n",
    "    'max_features' : [5, 7, 9]\n",
    "}\n",
    "\n",
    "gs = GridSearchCV(model_rf, params, cv=5)\n",
    "gs.fit(X_train.drop(['fareScaled','people_per_lastname'],axis=1),y_train)\n",
    "\n",
    "# Evaluation using Confusion Matrix and Evaluation Metrics:\n",
    "y_actual = y_test\n",
    "y_pred = gs.best_estimator_.predict(X_test.drop(['fareScaled','people_per_lastname'],axis=1))\n",
    "\n",
    "print(\"Accuracy: {}\".format(accuracy_score(y_actual, y_pred)))\n",
    "print(\"F1 Score: {}\".format(f1_score(y_actual, y_pred)))\n",
    "print(\"Matthew's Corr Coef: {}\".format(matthews_corrcoef(y_actual, y_pred)))\n",
    "\n",
    "pd.DataFrame(confusion_matrix(y_actual, y_pred),\n",
    "             columns=['Pred_Died','Pred_Survived'],\n",
    "             index=['Actual_Died','Actual_Survived'])"
   ]
  },
  {
   "cell_type": "markdown",
   "metadata": {},
   "source": [
    "### Exercise #6:\n",
    "<span style=\"color:blue\">\n",
    "Let's do a grid search to find the optimal parameters for the SVC (Support Vector Classifier) model.\n",
    "<ul>\n",
    "    <li>Use Random Forest Grid Search as a guideline (from above).</li>\n",
    "    <li>Let's optimize the following parameters: C, kernel, degree.</li>\n",
    "    <li>See whether we can beat the evaluation metrics we got from the original model.</li>\n",
    "</ul>\n",
    "</span>\n",
    "<div class=\"panel-group\" id=\"accordion-6\">\n",
    "  <div class=\"panel panel-default\">\n",
    "    <div class=\"panel-heading\">\n",
    "      <h4 class=\"panel-title\">\n",
    "        <a data-toggle=\"collapse\" data-parent=\"#accordion-6\" href=\"#collapse1-6\">Solution</a>\n",
    "    </h4>\n",
    "    </div>\n",
    "    <div id=\"collapse1-6\" class=\"panel-collapse collapse\">\n",
    "      <div class=\"panel-body\">\n",
    "Possible solution:<br>\n",
    "<br>\n",
    "model_svm = SVC(random_state=42)<br>\n",
    "params = {<br>\n",
    "    'C'            : [0.1, 1, 10],<br>\n",
    "    'kernel'       : ('rbf', 'poly'),<br>\n",
    "    'degree'       : [2, 3, 4]<br>\n",
    "}<br>\n",
    "<br>\n",
    "gs_svm = GridSearchCV(model_svm, params, cv=5)<br>\n",
    "gs_svm.fit(X_train,y_train)<br>\n",
    "<br>\n",
    "# Evaluation using Confusion Matrix and Evaluation Metrics:<br>\n",
    "y_actual = y_test<br>\n",
    "y_pred = gs_svm.best\\_estimator\\_.predict(X_test)<br>\n",
    "<br>\n",
    "print(\"Accuracy: {}\".format(accuracy_score(y_actual, y_pred)))<br>\n",
    "print(\"F1 Score: {}\".format(f1_score(y_actual, y_pred)))<br>\n",
    "print(\"Matthew's Corr Coef: {}\".format(matthews_corrcoef(y_actual, y_pred)))<br>\n",
    "<br>\n",
    "pd.DataFrame(confusion_matrix(y_actual, y_pred),<br>\n",
    "             columns=['Pred_Died','Pred_Survived'],<br>\n",
    "             index=['Actual_Died','Actual_Survived'])\n",
    "    </div>\n",
    "    </div>\n",
    "</div>\n",
    "</div>"
   ]
  },
  {
   "cell_type": "code",
   "execution_count": 61,
   "metadata": {},
   "outputs": [
    {
     "name": "stdout",
     "output_type": "stream",
     "text": [
      "Accuracy: 0.8375\n",
      "F1 Score: 0.8088235294117647\n",
      "Matthew's Corr Coef: 0.677351964062207\n"
     ]
    },
    {
     "data": {
      "text/html": [
       "<div>\n",
       "<style scoped>\n",
       "    .dataframe tbody tr th:only-of-type {\n",
       "        vertical-align: middle;\n",
       "    }\n",
       "\n",
       "    .dataframe tbody tr th {\n",
       "        vertical-align: top;\n",
       "    }\n",
       "\n",
       "    .dataframe thead th {\n",
       "        text-align: right;\n",
       "    }\n",
       "</style>\n",
       "<table border=\"1\" class=\"dataframe\">\n",
       "  <thead>\n",
       "    <tr style=\"text-align: right;\">\n",
       "      <th></th>\n",
       "      <th>Pred_Died</th>\n",
       "      <th>Pred_Survived</th>\n",
       "    </tr>\n",
       "  </thead>\n",
       "  <tbody>\n",
       "    <tr>\n",
       "      <th>Actual_Died</th>\n",
       "      <td>79</td>\n",
       "      <td>7</td>\n",
       "    </tr>\n",
       "    <tr>\n",
       "      <th>Actual_Survived</th>\n",
       "      <td>19</td>\n",
       "      <td>55</td>\n",
       "    </tr>\n",
       "  </tbody>\n",
       "</table>\n",
       "</div>"
      ],
      "text/plain": [
       "                 Pred_Died  Pred_Survived\n",
       "Actual_Died             79              7\n",
       "Actual_Survived         19             55"
      ]
     },
     "execution_count": 61,
     "metadata": {},
     "output_type": "execute_result"
    }
   ],
   "source": [
    "# SVM Grid Search:\n",
    "model_svm = SVC(random_state=42)\n",
    "params = {\n",
    "'C' : [0.1, 1, 10],\n",
    "'kernel' : ('rbf', 'poly'),\n",
    "'degree' : [2, 3, 4]\n",
    "}\n",
    "\n",
    "gs_svm = GridSearchCV(model_svm, params, cv=5)\n",
    "gs_svm.fit(X_train,y_train)\n",
    "\n",
    "# Evaluation using Confusion Matrix and Evaluation Metrics:\n",
    "y_actual = y_test\n",
    "y_pred = gs_svm.best_estimator_.predict(X_test)\n",
    "\n",
    "print(\"Accuracy: {}\".format(accuracy_score(y_actual, y_pred)))\n",
    "print(\"F1 Score: {}\".format(f1_score(y_actual, y_pred)))\n",
    "print(\"Matthew's Corr Coef: {}\".format(matthews_corrcoef(y_actual, y_pred)))\n",
    "\n",
    "pd.DataFrame(confusion_matrix(y_actual, y_pred),\n",
    "columns=['Pred_Died','Pred_Survived'],\n",
    "index=['Actual_Died','Actual_Survived'])"
   ]
  },
  {
   "cell_type": "markdown",
   "metadata": {},
   "source": [
    "## Kaggle Submission Generation:"
   ]
  },
  {
   "cell_type": "code",
   "execution_count": 64,
   "metadata": {},
   "outputs": [],
   "source": [
    "X_blind = combined_df[combined_df.Survived.isnull()].drop(['Survived'],axis=1)\n",
    "y_blind = gs_rf.best_estimator_.predict(X_blind)"
   ]
  },
  {
   "cell_type": "code",
   "execution_count": 65,
   "metadata": {},
   "outputs": [],
   "source": [
    "pd.DataFrame({'PassengerId' : X_blind.index.values+1, 'Survived' : y_blind.astype(int)}).to_csv('rf_submission_gs1.csv', index=False)"
   ]
  },
  {
   "cell_type": "code",
   "execution_count": 66,
   "metadata": {},
   "outputs": [
    {
     "name": "stdout",
     "output_type": "stream",
     "text": [
      "rf_submission_gs1.csv\n",
      "PassengerId,Survived\n",
      "892,0\n",
      "893,1\n",
      "894,0\n",
      "895,0\n"
     ]
    }
   ],
   "source": [
    "! ls rf_submission_gs1.csv\n",
    "! head -5 rf_submission_gs1.csv"
   ]
  },
  {
   "cell_type": "code",
   "execution_count": null,
   "metadata": {},
   "outputs": [],
   "source": [
    "# Kaggle Public Leaderboard Score: 0.78947 (~ 3% jump from gender-only submission)"
   ]
  }
 ],
 "metadata": {
  "anaconda-cloud": {},
  "kernelspec": {
   "display_name": "Python 3",
   "language": "python",
   "name": "python3"
  },
  "language_info": {
   "codemirror_mode": {
    "name": "ipython",
    "version": 3
   },
   "file_extension": ".py",
   "mimetype": "text/x-python",
   "name": "python",
   "nbconvert_exporter": "python",
   "pygments_lexer": "ipython3",
   "version": "3.6.3"
  }
 },
 "nbformat": 4,
 "nbformat_minor": 1
}
